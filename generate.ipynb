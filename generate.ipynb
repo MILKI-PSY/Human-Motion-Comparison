{
 "cells": [
  {
   "cell_type": "code",
   "execution_count": 14,
   "outputs": [],
   "source": [
    "import numpy as np\n",
    "import pandas as pd\n",
    "import math\n",
    "\n",
    "\n",
    "DATA_PATH = \"C:\\\\Users\\\\gaoch\\\\MA\\\\Badminton weights\\\\P01_B\\\\\"\n",
    "\n",
    "SHEET_NAME = [\"Segment Angular Velocity\"]\n",
    "\n",
    "SIMPLIFIED_JOINTS = [\"Head\", \"Neck\", \"Left Upper Arm\", \"Right Upper Arm\", \"Left Forearm\", \"Right Forearm\",\n",
    "                     \"Left Hand\", \"Right Hand\", \"Pelvis\", \"Left Upper Leg\", \"Right Upper Leg\",\n",
    "                     \"Left Lower Leg\", \"Right Lower Leg\", \"Left Foot\", \"Right Foot\"]\n",
    "\n",
    "SKELETON_CONNECTION_MAP = [[\"Head\", \"Neck\"],\n",
    "                         [\"Neck\", \"Left Upper Arm\"],\n",
    "                         [\"Left Upper Arm\", \"Left Forearm\"],\n",
    "                         [\"Left Forearm\", \"Left Hand\"],\n",
    "                         [\"Neck\", \"Right Upper Arm\"],\n",
    "                         [\"Right Upper Arm\", \"Right Forearm\"],\n",
    "                         [\"Right Forearm\", \"Right Hand\"],\n",
    "                         [\"Neck\", \"Pelvis\"],\n",
    "                         [\"Pelvis\", \"Left Upper Leg\"],\n",
    "                         [\"Left Upper Leg\", \"Left Lower Leg\"],\n",
    "                         [\"Left Lower Leg\", \"Left Foot\"],\n",
    "                         [\"Pelvis\", \"Right Upper Leg\"],\n",
    "                         [\"Right Upper Leg\", \"Right Lower Leg\"],\n",
    "                         [\"Right Lower Leg\", \"Right Foot\"]]\n",
    "\n",
    "used_cols = []\n",
    "for joints in SIMPLIFIED_JOINTS:\n",
    "    used_cols.append(joints+\" x\")\n",
    "    used_cols.append(joints+\" y\")\n",
    "    used_cols.append(joints+\" z\")\n",
    "\n",
    "def read_data(file_name):\n",
    "    return pd.read_excel(DATA_PATH + file_name,\n",
    "                         sheet_name = SHEET_NAME,\n",
    "                         usecols = used_cols)\n",
    "\n",
    "\n",
    "motion_recording = read_data(\"P01_B_noweightwithgloves.xlsx\")\n",
    "motion_recording[\"Segment Angular Velocity\"] = motion_recording[\"Segment Angular Velocity\"][5000:10000]\n"
   ],
   "metadata": {
    "collapsed": false
   }
  },
  {
   "cell_type": "code",
   "execution_count": 17,
   "outputs": [
    {
     "name": "stdout",
     "output_type": "stream",
     "text": [
      "      Pelvis x  Pelvis y  Pelvis z    Neck x    Neck y    Neck z    Head x  \\\n",
      "5000 -0.055594  0.019059 -0.072030  0.016752 -0.145350 -0.162715  0.054601   \n",
      "5001 -0.054778  0.019783 -0.075616  0.014437 -0.143401 -0.160873  0.053848   \n",
      "5002 -0.054806  0.022354 -0.076568  0.013103 -0.140950 -0.159831  0.051010   \n",
      "5003 -0.053355  0.027184 -0.075439  0.008715 -0.138899 -0.160170  0.051210   \n",
      "5004 -0.053676  0.030388 -0.075982  0.005852 -0.138353 -0.157777  0.051629   \n",
      "...        ...       ...       ...       ...       ...       ...       ...   \n",
      "9995  0.016528 -0.049796  0.274878 -0.097038  0.215362  0.072372 -0.116387   \n",
      "9996  0.025834 -0.037909  0.284484 -0.087258  0.218358  0.065457 -0.103010   \n",
      "9997  0.028837 -0.034186  0.294406 -0.078653  0.218830  0.053739 -0.089029   \n",
      "9998  0.027649 -0.034115  0.295662 -0.074136  0.224263  0.044187 -0.073745   \n",
      "9999  0.020502 -0.032453  0.296930 -0.068811  0.228816  0.030120 -0.056309   \n",
      "\n",
      "        Head y    Head z  Right Upper Arm x  ...  Right Foot z  \\\n",
      "5000 -0.302154 -0.088219          -0.179949  ...      1.406059   \n",
      "5001 -0.296613 -0.075208          -0.213402  ...      1.396368   \n",
      "5002 -0.297162 -0.073667          -0.233372  ...      1.385304   \n",
      "5003 -0.290279 -0.069252          -0.256257  ...      1.365645   \n",
      "5004 -0.289855 -0.063558          -0.300304  ...      1.342360   \n",
      "...        ...       ...                ...  ...           ...   \n",
      "9995  0.247091 -0.042925          -0.340853  ...     -0.001370   \n",
      "9996  0.252677 -0.046076          -0.329990  ...      0.005517   \n",
      "9997  0.253012 -0.049767          -0.320307  ...      0.009135   \n",
      "9998  0.256286 -0.051560          -0.308402  ...      0.017478   \n",
      "9999  0.256770 -0.060333          -0.295448  ...      0.025583   \n",
      "\n",
      "      Left Upper Leg x  Left Upper Leg y  Left Upper Leg z  Left Lower Leg x  \\\n",
      "5000          0.030450         -0.066312         -0.018613         -0.052096   \n",
      "5001          0.029856         -0.059605         -0.006786         -0.054573   \n",
      "5002          0.027789         -0.053066          0.002754         -0.056533   \n",
      "5003          0.026367         -0.046620          0.010537         -0.056340   \n",
      "5004          0.025994         -0.041739          0.015182         -0.054384   \n",
      "...                ...               ...               ...               ...   \n",
      "9995         -0.186299         -0.066696          0.029826         -0.262114   \n",
      "9996         -0.186938         -0.066072          0.046979         -0.260259   \n",
      "9997         -0.181462         -0.067559          0.073173         -0.257389   \n",
      "9998         -0.178181         -0.062773          0.101265         -0.254555   \n",
      "9999         -0.171958         -0.057292          0.136473         -0.250012   \n",
      "\n",
      "      Left Lower Leg y  Left Lower Leg z  Left Foot x  Left Foot y  \\\n",
      "5000          0.057157          0.034028    -0.008779     0.014284   \n",
      "5001          0.055338          0.029927    -0.006876     0.013897   \n",
      "5002          0.055079          0.023056    -0.003473     0.014783   \n",
      "5003          0.054384          0.026664    -0.000394     0.012524   \n",
      "5004          0.058108          0.033210     0.000244     0.013044   \n",
      "...                ...               ...          ...          ...   \n",
      "9995         -0.108860         -0.151648    -0.095293    -0.073695   \n",
      "9996         -0.107042         -0.150778    -0.094230    -0.068871   \n",
      "9997         -0.107395         -0.139621    -0.097095    -0.066857   \n",
      "9998         -0.111263         -0.123224    -0.096296    -0.066663   \n",
      "9999         -0.108217         -0.105208    -0.099192    -0.059655   \n",
      "\n",
      "      Left Foot z  \n",
      "5000    -0.005872  \n",
      "5001    -0.003854  \n",
      "5002    -0.004905  \n",
      "5003    -0.004550  \n",
      "5004    -0.005025  \n",
      "...           ...  \n",
      "9995    -0.048332  \n",
      "9996    -0.046524  \n",
      "9997    -0.046687  \n",
      "9998    -0.047453  \n",
      "9999    -0.045452  \n",
      "\n",
      "[5000 rows x 45 columns]\n"
     ]
    }
   ],
   "source": [
    "\n",
    "\n",
    "print(motion_recording[\"Segment Angular Velocity\"])\n",
    "motion_recording[\"Segment Angular Velocity\"].to_csv(\"angular.csv\", index=False)"
   ],
   "metadata": {
    "collapsed": false
   }
  },
  {
   "cell_type": "code",
   "execution_count": 15,
   "outputs": [],
   "source": [],
   "metadata": {
    "collapsed": false
   }
  },
  {
   "cell_type": "code",
   "execution_count": 15,
   "outputs": [],
   "source": [],
   "metadata": {
    "collapsed": false
   }
  }
 ],
 "metadata": {
  "kernelspec": {
   "display_name": "Python 3",
   "language": "python",
   "name": "python3"
  },
  "language_info": {
   "codemirror_mode": {
    "name": "ipython",
    "version": 2
   },
   "file_extension": ".py",
   "mimetype": "text/x-python",
   "name": "python",
   "nbconvert_exporter": "python",
   "pygments_lexer": "ipython2",
   "version": "2.7.6"
  }
 },
 "nbformat": 4,
 "nbformat_minor": 0
}
