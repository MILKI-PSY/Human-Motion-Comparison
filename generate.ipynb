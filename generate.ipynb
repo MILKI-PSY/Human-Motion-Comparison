{
 "cells": [
  {
   "cell_type": "code",
   "execution_count": 5,
   "outputs": [],
   "source": [
    "import numpy as np\n",
    "import pandas as pd\n",
    "from library.constants import *\n",
    "import math\n",
    "\n",
    "\n",
    "\n",
    "SIMPLIFIED_JOINTS = [\"Head\", \"Neck\", \"Left Upper Arm\", \"Right Upper Arm\", \"Left Forearm\", \"Right Forearm\",\n",
    "                     \"Left Hand\", \"Right Hand\", \"Pelvis\", \"Left Upper Leg\", \"Right Upper Leg\",\n",
    "                     \"Left Lower Leg\", \"Right Lower Leg\", \"Left Foot\", \"Right Foot\"]\n",
    "\n",
    "SKELETON_CONNECTION_MAP = [[\"Head\", \"Neck\"],\n",
    "                           [\"Neck\", \"Left Upper Arm\"],\n",
    "                           [\"Left Upper Arm\", \"Left Forearm\"],\n",
    "                           [\"Left Forearm\", \"Left Hand\"],\n",
    "                           [\"Neck\", \"Right Upper Arm\"],\n",
    "                           [\"Right Upper Arm\", \"Right Forearm\"],\n",
    "                           [\"Right Forearm\", \"Right Hand\"],\n",
    "                           [\"Neck\", \"Pelvis\"],\n",
    "                           [\"Pelvis\", \"Left Upper Leg\"],\n",
    "                           [\"Left Upper Leg\", \"Left Lower Leg\"],\n",
    "                           [\"Left Lower Leg\", \"Left Foot\"],\n",
    "                           [\"Pelvis\", \"Right Upper Leg\"],\n",
    "                           [\"Right Upper Leg\", \"Right Lower Leg\"],\n",
    "                           [\"Right Lower Leg\", \"Right Foot\"]]\n",
    "\n",
    "used_cols = []\n",
    "for joints in SIMPLIFIED_JOINTS:\n",
    "    used_cols.append(joints + \" x\")\n",
    "    used_cols.append(joints + \" y\")\n",
    "    used_cols.append(joints + \" z\")\n",
    "\n",
    "def read_data(file_name):\n",
    "    return pd.read_excel(DATA_PATH + file_name,\n",
    "                         sheet_name=RECORDING_TYPES,\n",
    "                         usecols=used_cols)\n",
    "\n",
    "DATA_PATH = \"C:\\\\Users\\\\gaoch\\\\MA\\\\Badminton weights\\\\P02_B\\\\\"\n",
    "motion_recording = read_data(\"P02_B_noweightwithgloves.xlsx\")\n"
   ],
   "metadata": {
    "collapsed": false
   }
  },
  {
   "cell_type": "code",
   "execution_count": 6,
   "outputs": [],
   "source": [
    "all_path = OUTPUT_FOLDER + \"data.xlsx\"\n",
    "with pd.ExcelWriter(all_path) as writer:\n",
    "    for recoding_type in RECORDING_TYPES:\n",
    "        motion_recording[recoding_type][:].to_excel(writer, sheet_name=recoding_type, index=False)"
   ],
   "metadata": {
    "collapsed": false
   }
  },
  {
   "cell_type": "code",
   "execution_count": 7,
   "outputs": [
    {
     "name": "stdout",
     "output_type": "stream",
     "text": [
      "dict_keys(['Segment Position', 'Segment Velocity', 'Segment Acceleration', 'Segment Angular Velocity', 'Segment Angular Acceleration'])\n"
     ]
    }
   ],
   "source": [
    "print(motion_recording.keys())"
   ],
   "metadata": {
    "collapsed": false
   }
  }
 ],
 "metadata": {
  "kernelspec": {
   "display_name": "Python 3",
   "language": "python",
   "name": "python3"
  },
  "language_info": {
   "codemirror_mode": {
    "name": "ipython",
    "version": 2
   },
   "file_extension": ".py",
   "mimetype": "text/x-python",
   "name": "python",
   "nbconvert_exporter": "python",
   "pygments_lexer": "ipython2",
   "version": "2.7.6"
  }
 },
 "nbformat": 4,
 "nbformat_minor": 0
}
