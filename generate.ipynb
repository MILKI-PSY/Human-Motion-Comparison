{
 "cells": [
  {
   "cell_type": "code",
   "execution_count": 6,
   "outputs": [],
   "source": [
    "import numpy as np\n",
    "import pandas as pd\n",
    "import math\n",
    "\n",
    "\n",
    "DATA_PATH = \"C:\\\\Users\\\\gaoch\\\\MA\\\\Badminton weights\\\\P01_B\\\\\"\n",
    "\n",
    "DATA_PATH = \"C:\\\\Users\\\\gaoch\\\\MA\\\\\"\n",
    "\n",
    "\n",
    "SHEET_NAME = [\"Segment Position\", \"Segment Velocity\"]\n",
    "\n",
    "SIMPLIFIED_JOINTS = [\"Head\", \"Neck\", \"Left Upper Arm\", \"Right Upper Arm\", \"Left Forearm\", \"Right Forearm\",\n",
    "                     \"Left Hand\", \"Right Hand\", \"Pelvis\", \"Left Upper Leg\", \"Right Upper Leg\",\n",
    "                     \"Left Lower Leg\", \"Right Lower Leg\", \"Left Foot\", \"Right Foot\"]\n",
    "\n",
    "SKELETON_CONNECTION_MAP = [[\"Head\", \"Neck\"],\n",
    "                         [\"Neck\", \"Left Upper Arm\"],\n",
    "                         [\"Left Upper Arm\", \"Left Forearm\"],\n",
    "                         [\"Left Forearm\", \"Left Hand\"],\n",
    "                         [\"Neck\", \"Right Upper Arm\"],\n",
    "                         [\"Right Upper Arm\", \"Right Forearm\"],\n",
    "                         [\"Right Forearm\", \"Right Hand\"],\n",
    "                         [\"Neck\", \"Pelvis\"],\n",
    "                         [\"Pelvis\", \"Left Upper Leg\"],\n",
    "                         [\"Left Upper Leg\", \"Left Lower Leg\"],\n",
    "                         [\"Left Lower Leg\", \"Left Foot\"],\n",
    "                         [\"Pelvis\", \"Right Upper Leg\"],\n",
    "                         [\"Right Upper Leg\", \"Right Lower Leg\"],\n",
    "                         [\"Right Lower Leg\", \"Right Foot\"]]\n",
    "\n",
    "used_cols = []\n",
    "for joints in SIMPLIFIED_JOINTS:\n",
    "    used_cols.append(joints+\" x\")\n",
    "    used_cols.append(joints+\" y\")\n",
    "    used_cols.append(joints+\" z\")\n",
    "\n",
    "def read_data(file_name):\n",
    "    return pd.read_excel(DATA_PATH + file_name,\n",
    "                         sheet_name = SHEET_NAME,\n",
    "                         usecols = used_cols)\n",
    "\n",
    "\n",
    "motion_recording = read_data(\"P02_V.xlsx\")\n",
    "motion_recording[\"Segment Position\"][13000:16000].to_csv(\"V_0_pos.csv\", index=False)\n",
    "motion_recording[\"Segment Velocity\"][13000:16000].to_csv(\"V_0_vel.csv\", index=False)\n",
    "motion_recording[\"Segment Position\"][25000:28000].to_csv(\"V_1_pos.csv\", index=False)\n",
    "motion_recording[\"Segment Velocity\"][25000:28000].to_csv(\"V_1_vel.csv\", index=False)\n",
    "\n",
    "\n"
   ],
   "metadata": {
    "collapsed": false
   }
  },
  {
   "cell_type": "code",
   "execution_count": null,
   "outputs": [],
   "source": [],
   "metadata": {
    "collapsed": false
   }
  }
 ],
 "metadata": {
  "kernelspec": {
   "display_name": "Python 3",
   "language": "python",
   "name": "python3"
  },
  "language_info": {
   "codemirror_mode": {
    "name": "ipython",
    "version": 2
   },
   "file_extension": ".py",
   "mimetype": "text/x-python",
   "name": "python",
   "nbconvert_exporter": "python",
   "pygments_lexer": "ipython2",
   "version": "2.7.6"
  }
 },
 "nbformat": 4,
 "nbformat_minor": 0
}
