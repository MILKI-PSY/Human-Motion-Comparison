{
 "cells": [
  {
   "cell_type": "code",
   "execution_count": 4,
   "outputs": [],
   "source": [
    "import matplotlib\n",
    "\n",
    "from matplotlib.animation import FuncAnimation\n",
    "import pandas as pd\n",
    "import matplotlib.pyplot as plt\n",
    "\n",
    "matplotlib.use('Qt5Agg')\n",
    "\n",
    "DATA_PATH = \"C:\\\\Users\\\\gaoch\\\\MA\\\\Badminton weights\\\\cuts\\\\\"\n",
    "\n",
    "extra_path = \"P1\\\\\"\n",
    "position_recording_0 = pd.read_csv(DATA_PATH + extra_path + \"position.csv\")[2600:2850]\n",
    "velocity_recording_0 = pd.read_csv(DATA_PATH + extra_path + \"velocity.csv\")[2600:2850]\n",
    "angular_velocity_recording_0 = pd.read_csv(DATA_PATH + extra_path + \"angular_velocity.csv\")[2600:2850] / 10\n",
    "acceleration_recording_0 = pd.read_csv(DATA_PATH + extra_path + \"acceleration.csv\")[2600:2850] / 10\n",
    "\n",
    "import matplotlib.pyplot as plt\n",
    "import matplotlib.animation as animation\n",
    "import numpy as np\n",
    "\n",
    "\n",
    "class AnimatedScatter(object):\n",
    "    \"\"\"An animated scatter plot using matplotlib.animations.FuncAnimation.\"\"\"\n",
    "\n",
    "    def __init__(self, numpoints=3):\n",
    "        self.numpoints = numpoints\n",
    "        #self.stream = self.data_stream()\n",
    "\n",
    "        # Setup the figure and axes...\n",
    "        self.fig = plt.figure()\n",
    "        self.ax = self.fig.add_subplot(projection=\"3d\")\n",
    "\n",
    "        self.ax.set(xlim3d=(-10, 10), xlabel='X')\n",
    "        self.ax.set(ylim3d=(-10, 10), ylabel='Y')\n",
    "        self.ax.set(zlim3d=(-10, 10), zlabel='Z')\n",
    "        # Then setup FuncAnimation.\n",
    "        self.ani = animation.FuncAnimation(self.fig, self.update, interval=5)\n",
    "\n",
    "        c = np.zeros(3)\n",
    "        self.scat = self.ax.scatter([0, 3, 6], [0, 3, 6], [0, 3, 5], c=c, s=400, vmin=0, vmax=2,\n",
    "                                    cmap=\"gist_heat\", alpha = 1)\n",
    "\n",
    "    # def data_stream(self):\n",
    "    #     \"\"\"Generate a random walk (brownian motion). Data is scaled to produce\n",
    "    #     a soft \"flickering\" effect.\"\"\"\n",
    "    #     xy = (np.random.random((self.numpoints, 2))-0.5)*10\n",
    "    #     s, c = np.random.random((self.numpoints, 2)).T\n",
    "    #     while True:\n",
    "    #         xy += 0.03 * (np.random.random((self.numpoints, 2)) - 0.5)\n",
    "    #         s += 0.05 * (np.random.random(self.numpoints) - 0.5)\n",
    "    #         c += 0.02 * (np.random.random(self.numpoints) - 0.5)\n",
    "    #         yield np.c_[xy[:,0], xy[:,1], s, c]\n",
    "\n",
    "    def update(self, i):\n",
    "        \"\"\"Update the scatter plot.\"\"\"\n",
    "        #data = next(self.stream)\n",
    "\n",
    "        # Set x and y data...\n",
    "        #self.scat.set_offsets(data[:, :2])\n",
    "        # Set sizes...\n",
    "        #self.scat.set_sizes(300 * abs(data[:, 2])**1.5 + 100)\n",
    "        # Set colors..\n",
    "        self.scat.set_array(np.array([i * 0.003, 0.5, 0]))\n",
    "\n",
    "        # We need to return the updated artist for FuncAnimation to draw..\n",
    "        # Note that it expects a sequence of artists, thus the trailing comma.\n",
    "\n",
    "\n",
    "a = AnimatedScatter()\n",
    "plt.show()"
   ],
   "metadata": {
    "collapsed": false
   }
  },
  {
   "cell_type": "code",
   "execution_count": 2,
   "outputs": [
    {
     "name": "stdout",
     "output_type": "stream",
     "text": [
      "[1 2 3 4]\n"
     ]
    }
   ],
   "source": [
    "from constants import *\n",
    "import pandas as pd\n",
    "import numpy as np\n",
    "print(np.concatenate((np.array([1,2]), np.array([3,4]))))"
   ],
   "metadata": {
    "collapsed": false
   }
  },
  {
   "cell_type": "code",
   "execution_count": 3,
   "outputs": [
    {
     "name": "stdout",
     "output_type": "stream",
     "text": [
      "[0.005 0.    0.    0.    0.    0.    0.    0.    0.    0.    0.    0.\n",
      " 0.    0.    0.   ]\n"
     ]
    }
   ],
   "source": [
    "print(np.concatenate((np.array([5 * 0.001]), np.zeros(14))))"
   ],
   "metadata": {
    "collapsed": false
   }
  },
  {
   "cell_type": "code",
   "execution_count": 3,
   "outputs": [],
   "source": [],
   "metadata": {
    "collapsed": false
   }
  },
  {
   "cell_type": "code",
   "execution_count": 3,
   "outputs": [],
   "source": [],
   "metadata": {
    "collapsed": false
   }
  }
 ],
 "metadata": {
  "kernelspec": {
   "display_name": "Python 3",
   "language": "python",
   "name": "python3"
  },
  "language_info": {
   "codemirror_mode": {
    "name": "ipython",
    "version": 2
   },
   "file_extension": ".py",
   "mimetype": "text/x-python",
   "name": "python",
   "nbconvert_exporter": "python",
   "pygments_lexer": "ipython2",
   "version": "2.7.6"
  }
 },
 "nbformat": 4,
 "nbformat_minor": 0
}
