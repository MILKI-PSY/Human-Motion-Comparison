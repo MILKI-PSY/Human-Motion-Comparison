{
 "cells": [
  {
   "cell_type": "code",
   "execution_count": 4,
   "outputs": [],
   "source": [
    "import matplotlib\n",
    "\n",
    "from matplotlib.animation import FuncAnimation\n",
    "import pandas as pd\n",
    "import matplotlib.pyplot as plt\n",
    "\n",
    "matplotlib.use('Qt5Agg')\n",
    "\n",
    "DATA_PATH = \"C:\\\\Users\\\\gaoch\\\\MA\\\\Badminton weights\\\\cuts\\\\\"\n",
    "\n",
    "extra_path = \"P1\\\\\"\n",
    "position_recording_0 = pd.read_csv(DATA_PATH + extra_path + \"position.csv\")[2600:2850]\n",
    "velocity_recording_0 = pd.read_csv(DATA_PATH + extra_path + \"velocity.csv\")[2600:2850]\n",
    "angular_velocity_recording_0 = pd.read_csv(DATA_PATH + extra_path + \"angular_velocity.csv\")[2600:2850] / 10\n",
    "acceleration_recording_0 = pd.read_csv(DATA_PATH + extra_path + \"acceleration.csv\")[2600:2850] / 10\n",
    "\n",
    "import matplotlib.pyplot as plt\n",
    "import matplotlib.animation as animation\n",
    "from constants import *\n",
    "import numpy as np\n",
    "\n",
    "\n",
    "class AnimatedScatter(object):\n",
    "    \"\"\"An animated scatter plot using matplotlib.animations.FuncAnimation.\"\"\"\n",
    "\n",
    "    def __init__(self, numpoints=3):\n",
    "        self.numpoints = numpoints\n",
    "\n",
    "        # xpoints = np.array([0, 6])\n",
    "        # ypoints = np.array([0, 100])\n",
    "        #\n",
    "        # plt.subplot(1, 2, 1)\n",
    "        # plt.plot(xpoints,ypoints)\n",
    "        # plt.title(\"plot 1\")\n",
    "        #\n",
    "        # #plot 2:\n",
    "        # x = np.array([1, 2, 3, 4])\n",
    "        # y = np.array([1, 4, 9, 16])\n",
    "        #\n",
    "        # plt.subplot(1, 2, 2)\n",
    "        # plt.plot(x,y)\n",
    "        # plt.title(\"plot 2\")\n",
    "        #\n",
    "        # self.fig = plt.figure(1,2,2)\n",
    "\n",
    "        self.fig = plt.figure()\n",
    "\n",
    "\n",
    "        self.ax = self.fig.add_subplot(1,2,1,projection=\"3d\")\n",
    "        self.ax_0 =self.fig.add_subplot(1,2,2)\n",
    "        self.ax_0.set_aspect(1)\n",
    "        self.ax_0.set_axis_off()\n",
    "        self.ax_0.set_xlim(-1,1)\n",
    "        self.ax_0.set_ylim(-1,1)\n",
    "\n",
    "        self.ax.set(xlim3d=(-10, 10), xlabel='X')\n",
    "        self.ax.set(ylim3d=(-10, 10), ylabel='Y')\n",
    "        self.ax.set(zlim3d=(-10, 10), zlabel='Z')\n",
    "        # Then setup FuncAnimation.\n",
    "        self.ani = animation.FuncAnimation(self.fig, self.update, interval=5)\n",
    "\n",
    "\n",
    "        joint_positions = np.array(HEATMAP_JOINT_POSITION)\n",
    "        self.scat = self.ax_0.scatter(joint_positions[:, 0], joint_positions[:, 1], s=200,\n",
    "                                       vmin=0, vmax=1, c=np.zeros(len(HEATMAP_JOINT_POSITION)), cmap=\"Reds\",\n",
    "                                       alpha=1)\n",
    "\n",
    "\n",
    "        #self.scat = self.ax_0.scatter([0, 0.3], [0, 0.3], c=c, s=40, vmin=0, vmax=2, cmap=\"gist_heat\", alpha = 1)\n",
    "\n",
    "    # def data_stream(self):\n",
    "    #     \"\"\"Generate a random walk (brownian motion). Data is scaled to produce\n",
    "    #     a soft \"flickering\" effect.\"\"\"\n",
    "    #     xy = (np.random.random((self.numpoints, 2))-0.5)*10\n",
    "    #     s, c = np.random.random((self.numpoints, 2)).T\n",
    "    #     while True:\n",
    "    #         xy += 0.03 * (np.random.random((self.numpoints, 2)) - 0.5)\n",
    "    #         s += 0.05 * (np.random.random(self.numpoints) - 0.5)\n",
    "    #         c += 0.02 * (np.random.random(self.numpoints) - 0.5)\n",
    "    #         yield np.c_[xy[:,0], xy[:,1], s, c]\n",
    "\n",
    "    def update(self, i):\n",
    "        \"\"\"Update the scatter plot.\"\"\"\n",
    "        #data = next(self.stream)\n",
    "\n",
    "        # Set x and y data...\n",
    "        #self.scat.set_offsets(data[:, :2])\n",
    "        # Set sizes...\n",
    "        #self.scat.set_sizes(300 * abs(data[:, 2])**1.5 + 100)\n",
    "        # Set colors..\n",
    "        self.scat.set_array(np.array([i * 0.003, 0.5, 0]))\n",
    "\n",
    "        # We need to return the updated artist for FuncAnimation to draw..\n",
    "        # Note that it expects a sequence of artists, thus the trailing comma.\n",
    "\n",
    "\n",
    "a = AnimatedScatter()\n",
    "plt.show()"
   ],
   "metadata": {
    "collapsed": false
   }
  },
  {
   "cell_type": "code",
   "execution_count": 11,
   "outputs": [
    {
     "name": "stdout",
     "output_type": "stream",
     "text": [
      "0\n"
     ]
    }
   ],
   "source": [
    "from constants import *\n",
    "import pandas as pd\n",
    "import numpy as np\n",
    "def color_stream():\n",
    "    for i in range(10):\n",
    "        yield i\n",
    "cc = color_stream()\n",
    "print(next(cc))"
   ],
   "metadata": {
    "collapsed": false
   }
  },
  {
   "cell_type": "code",
   "execution_count": 14,
   "outputs": [
    {
     "name": "stdout",
     "output_type": "stream",
     "text": [
      "3\n"
     ]
    }
   ],
   "source": [
    "print(next(cc))"
   ],
   "metadata": {
    "collapsed": false
   }
  },
  {
   "cell_type": "code",
   "execution_count": 12,
   "outputs": [],
   "source": [],
   "metadata": {
    "collapsed": false
   }
  },
  {
   "cell_type": "code",
   "execution_count": 3,
   "outputs": [],
   "source": [],
   "metadata": {
    "collapsed": false
   }
  }
 ],
 "metadata": {
  "kernelspec": {
   "display_name": "Python 3",
   "language": "python",
   "name": "python3"
  },
  "language_info": {
   "codemirror_mode": {
    "name": "ipython",
    "version": 2
   },
   "file_extension": ".py",
   "mimetype": "text/x-python",
   "name": "python",
   "nbconvert_exporter": "python",
   "pygments_lexer": "ipython2",
   "version": "2.7.6"
  }
 },
 "nbformat": 4,
 "nbformat_minor": 0
}
