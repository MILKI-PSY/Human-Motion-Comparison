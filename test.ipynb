{
 "cells": [
  {
   "cell_type": "code",
   "execution_count": 1,
   "metadata": {
    "collapsed": true
   },
   "outputs": [],
   "source": [
    "import numpy as np\n",
    "import matplotlib.pyplot as plt\n",
    "import matplotlib.animation as animation\n",
    "import matplotlib\n",
    "\n",
    "matplotlib.use('Qt5Agg')\n",
    "\n",
    "fig, ax = plt.subplots()\n",
    "ax.set_xlim([0, 10])\n",
    "\n",
    "scat = ax.scatter(1, 0)\n",
    "x = np.linspace(0, 10)\n",
    "\n",
    "\n",
    "def animate(i):\n",
    "    scat.set_offsets((x[i], 0))\n",
    "    return scat,\n",
    "\n",
    "\n",
    "ani = animation.FuncAnimation(fig, animate, repeat=True,\n",
    "                              frames=len(x) - 1, interval=50)\n",
    "\n",
    "#To save the animation using Pillow as a gif\n",
    "writer = animation.PillowWriter(fps=15,\n",
    "                                metadata=dict(artist='Me'),\n",
    "                                bitrate=1800)\n",
    "ani.save('scatter.gif', writer=writer)\n",
    "\n",
    "plt.show()"
   ]
  },
  {
   "cell_type": "code",
   "execution_count": 1,
   "outputs": [],
   "source": [],
   "metadata": {
    "collapsed": false
   }
  },
  {
   "cell_type": "code",
   "execution_count": 1,
   "outputs": [],
   "source": [],
   "metadata": {
    "collapsed": false
   }
  }
 ],
 "metadata": {
  "kernelspec": {
   "display_name": "Python 3",
   "language": "python",
   "name": "python3"
  },
  "language_info": {
   "codemirror_mode": {
    "name": "ipython",
    "version": 2
   },
   "file_extension": ".py",
   "mimetype": "text/x-python",
   "name": "python",
   "nbconvert_exporter": "python",
   "pygments_lexer": "ipython2",
   "version": "2.7.6"
  }
 },
 "nbformat": 4,
 "nbformat_minor": 0
}
