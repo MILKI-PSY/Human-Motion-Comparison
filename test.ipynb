{
 "cells": [
  {
   "cell_type": "code",
   "execution_count": 11,
   "metadata": {
    "collapsed": true
   },
   "outputs": [],
   "source": [
    "import numpy as np\n",
    "import matplotlib.pyplot as plt\n",
    "from matplotlib.widgets import Button\n",
    "\n",
    "\n",
    "class Index:\n",
    "\n",
    "    def __init__(self):\n",
    "        self.ind = 0\n",
    "        self.freqs = np.arange(2, 20, 3)\n",
    "\n",
    "        self.fig, self.ax = plt.subplots()\n",
    "        self.fig.subplots_adjust(bottom=0.2)\n",
    "\n",
    "        self.t = np.arange(0.0, 1.0, 0.001)\n",
    "        self.s = np.sin(2 * np.pi * self.freqs[0] * self.t)\n",
    "        self.l, = self.ax.plot(self.t, self.s, lw=2)\n",
    "\n",
    "        axnext = self.fig.add_axes([0.81, 0.05, 0.1, 0.075])\n",
    "        bnext = Button(axnext, 'Next')\n",
    "        self.bnext.on_clicked(self.next)\n",
    "\n",
    "        axprev = self.fig.add_axes([0.7, 0.05, 0.1, 0.075])\n",
    "        bprev = Button(axprev, 'Previous')\n",
    "        bprev.on_clicked(self.prev)\n",
    "\n",
    "    def next(self, event):\n",
    "        self.ind += 1\n",
    "        i = self.ind % len(self.freqs)\n",
    "        ydata = np.sin(2 * np.pi * self.freqs[i] * self.t)\n",
    "        self.l.set_ydata(ydata)\n",
    "        plt.draw()\n",
    "\n",
    "    def prev(self, event):\n",
    "        self.ind -= 1\n",
    "        i = self.ind % len(self.freqs)\n",
    "        ydata = np.sin(2 * np.pi * self.freqs[i] * self.t)\n",
    "        self.l.set_ydata(ydata)\n",
    "        plt.draw()\n",
    "\n",
    "\n",
    "\n",
    "callback = Index()\n",
    "\n",
    "\n",
    "\n",
    "plt.show()"
   ]
  },
  {
   "cell_type": "code",
   "execution_count": 4,
   "outputs": [
    {
     "name": "stdout",
     "output_type": "stream",
     "text": [
      "-0.953688103424739\n"
     ]
    }
   ],
   "source": [
    "import pandas as pd\n",
    "DATA_PATH = \"C:\\\\Users\\\\gaoch\\\\MA\\\\Badminton weights\\\\P01_B\\\\cuts\\\\\"\n",
    "position_recording_0 = pd.read_csv(DATA_PATH + \"position.csv\")[2600:2850]\n",
    "\n",
    "print(position_recording_0[\"Pelvis x\"].iloc[1])"
   ],
   "metadata": {
    "collapsed": false
   }
  },
  {
   "cell_type": "code",
   "execution_count": 1,
   "outputs": [],
   "source": [],
   "metadata": {
    "collapsed": false
   }
  }
 ],
 "metadata": {
  "kernelspec": {
   "display_name": "Python 3",
   "language": "python",
   "name": "python3"
  },
  "language_info": {
   "codemirror_mode": {
    "name": "ipython",
    "version": 2
   },
   "file_extension": ".py",
   "mimetype": "text/x-python",
   "name": "python",
   "nbconvert_exporter": "python",
   "pygments_lexer": "ipython2",
   "version": "2.7.6"
  }
 },
 "nbformat": 4,
 "nbformat_minor": 0
}
