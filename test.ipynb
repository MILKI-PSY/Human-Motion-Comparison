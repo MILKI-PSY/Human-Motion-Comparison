{
 "cells": [
  {
   "cell_type": "code",
   "execution_count": 1,
   "outputs": [
    {
     "name": "stdout",
     "output_type": "stream",
     "text": [
      "Importing the dtw module. When using in academic works please cite:\n",
      "  T. Giorgino. Computing and Visualizing Dynamic Time Warping Alignments in R: The dtw Package.\n",
      "  J. Stat. Soft., doi:10.18637/jss.v031.i07.\n",
      "\n"
     ]
    }
   ],
   "source": [
    "import matplotlib\n",
    "from library.constants import *\n",
    "from library.IO import *\n",
    "from scipy.spatial.distance import euclidean, cdist\n",
    "import library.motion as mtn\n",
    "import library.animation as anmtn\n",
    "import pandas as pd\n",
    "import matplotlib.pyplot as plt\n",
    "import numpy as np\n",
    "\n",
    "matplotlib.use('Qt5Agg')\n",
    "\n",
    "weight = {}\n",
    "for joint in SIMPLIFIED_JOINTS:\n",
    "    weight[joint] = 1\n",
    "weight[\"Right Hand\"] = 0\n",
    "weight[\"Right Upper Arm\"] = 0\n",
    "weight[\"Right Forearm\"] = 0\n",
    "\n",
    "pd_weight = pd.DataFrame([weight])\n",
    "\n"
   ],
   "metadata": {
    "collapsed": false
   }
  },
  {
   "cell_type": "code",
   "execution_count": 3,
   "outputs": [
    {
     "name": "stdout",
     "output_type": "stream",
     "text": [
      "generating aa from P01_B_cut\n",
      "      Pelvis x  Pelvis y  Pelvis z    Neck x    Neck y    Neck z    Head x  \\\n",
      "7600 -0.954819 -0.221839  1.102446 -0.922436 -0.254694  1.570059 -0.894176   \n",
      "\n",
      "        Head y    Head z  Right Upper Arm x  ...  Right Foot z  \\\n",
      "7600 -0.271293  1.654118          -0.976057  ...      0.117282   \n",
      "\n",
      "      Left Upper Leg x  Left Upper Leg y  Left Upper Leg z  Left Lower Leg x  \\\n",
      "7600         -0.934796         -0.120068          1.104659          -0.76358   \n",
      "\n",
      "      Left Lower Leg y  Left Lower Leg z  Left Foot x  Left Foot y  \\\n",
      "7600         -0.100963          0.549291    -1.018784    -0.142339   \n",
      "\n",
      "      Left Foot z  \n",
      "7600     0.224787  \n",
      "\n",
      "[1 rows x 45 columns]\n"
     ]
    },
    {
     "ename": "ValueError",
     "evalue": "Input vector should be 1-D.",
     "output_type": "error",
     "traceback": [
      "\u001B[1;31m---------------------------------------------------------------------------\u001B[0m",
      "\u001B[1;31mValueError\u001B[0m                                Traceback (most recent call last)",
      "\u001B[1;32m~\\AppData\\Local\\Temp\\ipykernel_2140\\687923967.py\u001B[0m in \u001B[0;36m<module>\u001B[1;34m\u001B[0m\n\u001B[0;32m      6\u001B[0m \u001B[1;33m\u001B[0m\u001B[0m\n\u001B[0;32m      7\u001B[0m \u001B[0mprint\u001B[0m\u001B[1;33m(\u001B[0m\u001B[0mmotions\u001B[0m\u001B[1;33m[\u001B[0m\u001B[1;36m0\u001B[0m\u001B[1;33m]\u001B[0m\u001B[1;33m.\u001B[0m\u001B[0mrecordings\u001B[0m\u001B[1;33m[\u001B[0m\u001B[0mRECORDING_FOR_SKELETON\u001B[0m\u001B[1;33m]\u001B[0m\u001B[1;33m[\u001B[0m\u001B[1;36m0\u001B[0m\u001B[1;33m:\u001B[0m\u001B[1;36m1\u001B[0m\u001B[1;33m]\u001B[0m\u001B[1;33m)\u001B[0m\u001B[1;33m\u001B[0m\u001B[1;33m\u001B[0m\u001B[0m\n\u001B[1;32m----> 8\u001B[1;33m \u001B[0ms\u001B[0m \u001B[1;33m=\u001B[0m \u001B[0mmotions\u001B[0m\u001B[1;33m[\u001B[0m\u001B[1;36m0\u001B[0m\u001B[1;33m]\u001B[0m\u001B[1;33m.\u001B[0m\u001B[0mget_body_size\u001B[0m\u001B[1;33m(\u001B[0m\u001B[1;33m)\u001B[0m\u001B[1;33m\u001B[0m\u001B[1;33m\u001B[0m\u001B[0m\n\u001B[0m\u001B[0;32m      9\u001B[0m \u001B[0mprint\u001B[0m\u001B[1;33m(\u001B[0m\u001B[0ms\u001B[0m\u001B[1;33m)\u001B[0m\u001B[1;33m\u001B[0m\u001B[1;33m\u001B[0m\u001B[0m\n\u001B[0;32m     10\u001B[0m \u001B[1;33m\u001B[0m\u001B[0m\n",
      "\u001B[1;32m~\\MA\\Human-Motion-Comparison\\library\\motion.py\u001B[0m in \u001B[0;36mget_body_size\u001B[1;34m(self)\u001B[0m\n\u001B[0;32m    112\u001B[0m                     \u001B[0mcolumns_for_joint\u001B[0m\u001B[1;33m.\u001B[0m\u001B[0mappend\u001B[0m\u001B[1;33m(\u001B[0m\u001B[0mjoint\u001B[0m \u001B[1;33m+\u001B[0m \u001B[0maxis\u001B[0m\u001B[1;33m)\u001B[0m\u001B[1;33m\u001B[0m\u001B[1;33m\u001B[0m\u001B[0m\n\u001B[0;32m    113\u001B[0m                 \u001B[0mcolumns\u001B[0m\u001B[1;33m.\u001B[0m\u001B[0mappend\u001B[0m\u001B[1;33m(\u001B[0m\u001B[0mcolumns_for_joint\u001B[0m\u001B[1;33m)\u001B[0m\u001B[1;33m\u001B[0m\u001B[1;33m\u001B[0m\u001B[0m\n\u001B[1;32m--> 114\u001B[1;33m             \u001B[0mbody_size\u001B[0m\u001B[1;33m[\u001B[0m\u001B[0mjoint_connection\u001B[0m\u001B[1;33m[\u001B[0m\u001B[1;36m0\u001B[0m\u001B[1;33m]\u001B[0m\u001B[1;33m]\u001B[0m \u001B[1;33m=\u001B[0m \u001B[0meuclidean\u001B[0m\u001B[1;33m(\u001B[0m\u001B[0mframe\u001B[0m\u001B[1;33m[\u001B[0m\u001B[0mcolumns\u001B[0m\u001B[1;33m[\u001B[0m\u001B[1;36m0\u001B[0m\u001B[1;33m]\u001B[0m\u001B[1;33m]\u001B[0m\u001B[1;33m.\u001B[0m\u001B[0mvalues\u001B[0m\u001B[1;33m,\u001B[0m \u001B[0mframe\u001B[0m\u001B[1;33m[\u001B[0m\u001B[0mcolumns\u001B[0m\u001B[1;33m[\u001B[0m\u001B[1;36m1\u001B[0m\u001B[1;33m]\u001B[0m\u001B[1;33m]\u001B[0m\u001B[1;33m.\u001B[0m\u001B[0mvalues\u001B[0m\u001B[1;33m)\u001B[0m\u001B[1;33m\u001B[0m\u001B[1;33m\u001B[0m\u001B[0m\n\u001B[0m\u001B[0;32m    115\u001B[0m         \u001B[1;32mreturn\u001B[0m \u001B[0mbody_size\u001B[0m\u001B[1;33m\u001B[0m\u001B[1;33m\u001B[0m\u001B[0m\n\u001B[0;32m    116\u001B[0m \u001B[1;33m\u001B[0m\u001B[0m\n",
      "\u001B[1;32mC:\\ProgramData\\Anaconda3\\lib\\site-packages\\scipy\\spatial\\distance.py\u001B[0m in \u001B[0;36meuclidean\u001B[1;34m(u, v, w)\u001B[0m\n\u001B[0;32m    516\u001B[0m \u001B[1;33m\u001B[0m\u001B[0m\n\u001B[0;32m    517\u001B[0m     \"\"\"\n\u001B[1;32m--> 518\u001B[1;33m     \u001B[1;32mreturn\u001B[0m \u001B[0mminkowski\u001B[0m\u001B[1;33m(\u001B[0m\u001B[0mu\u001B[0m\u001B[1;33m,\u001B[0m \u001B[0mv\u001B[0m\u001B[1;33m,\u001B[0m \u001B[0mp\u001B[0m\u001B[1;33m=\u001B[0m\u001B[1;36m2\u001B[0m\u001B[1;33m,\u001B[0m \u001B[0mw\u001B[0m\u001B[1;33m=\u001B[0m\u001B[0mw\u001B[0m\u001B[1;33m)\u001B[0m\u001B[1;33m\u001B[0m\u001B[1;33m\u001B[0m\u001B[0m\n\u001B[0m\u001B[0;32m    519\u001B[0m \u001B[1;33m\u001B[0m\u001B[0m\n\u001B[0;32m    520\u001B[0m \u001B[1;33m\u001B[0m\u001B[0m\n",
      "\u001B[1;32mC:\\ProgramData\\Anaconda3\\lib\\site-packages\\scipy\\spatial\\distance.py\u001B[0m in \u001B[0;36mminkowski\u001B[1;34m(u, v, p, w)\u001B[0m\n\u001B[0;32m    459\u001B[0m \u001B[1;33m\u001B[0m\u001B[0m\n\u001B[0;32m    460\u001B[0m     \"\"\"\n\u001B[1;32m--> 461\u001B[1;33m     \u001B[0mu\u001B[0m \u001B[1;33m=\u001B[0m \u001B[0m_validate_vector\u001B[0m\u001B[1;33m(\u001B[0m\u001B[0mu\u001B[0m\u001B[1;33m)\u001B[0m\u001B[1;33m\u001B[0m\u001B[1;33m\u001B[0m\u001B[0m\n\u001B[0m\u001B[0;32m    462\u001B[0m     \u001B[0mv\u001B[0m \u001B[1;33m=\u001B[0m \u001B[0m_validate_vector\u001B[0m\u001B[1;33m(\u001B[0m\u001B[0mv\u001B[0m\u001B[1;33m)\u001B[0m\u001B[1;33m\u001B[0m\u001B[1;33m\u001B[0m\u001B[0m\n\u001B[0;32m    463\u001B[0m     \u001B[1;32mif\u001B[0m \u001B[0mp\u001B[0m \u001B[1;33m<=\u001B[0m \u001B[1;36m0\u001B[0m\u001B[1;33m:\u001B[0m\u001B[1;33m\u001B[0m\u001B[1;33m\u001B[0m\u001B[0m\n",
      "\u001B[1;32mC:\\ProgramData\\Anaconda3\\lib\\site-packages\\scipy\\spatial\\distance.py\u001B[0m in \u001B[0;36m_validate_vector\u001B[1;34m(u, dtype)\u001B[0m\n\u001B[0;32m    299\u001B[0m     \u001B[1;32mif\u001B[0m \u001B[0mu\u001B[0m\u001B[1;33m.\u001B[0m\u001B[0mndim\u001B[0m \u001B[1;33m==\u001B[0m \u001B[1;36m1\u001B[0m\u001B[1;33m:\u001B[0m\u001B[1;33m\u001B[0m\u001B[1;33m\u001B[0m\u001B[0m\n\u001B[0;32m    300\u001B[0m         \u001B[1;32mreturn\u001B[0m \u001B[0mu\u001B[0m\u001B[1;33m\u001B[0m\u001B[1;33m\u001B[0m\u001B[0m\n\u001B[1;32m--> 301\u001B[1;33m     \u001B[1;32mraise\u001B[0m \u001B[0mValueError\u001B[0m\u001B[1;33m(\u001B[0m\u001B[1;34m\"Input vector should be 1-D.\"\u001B[0m\u001B[1;33m)\u001B[0m\u001B[1;33m\u001B[0m\u001B[1;33m\u001B[0m\u001B[0m\n\u001B[0m\u001B[0;32m    302\u001B[0m \u001B[1;33m\u001B[0m\u001B[0m\n\u001B[0;32m    303\u001B[0m \u001B[1;33m\u001B[0m\u001B[0m\n",
      "\u001B[1;31mValueError\u001B[0m: Input vector should be 1-D."
     ]
    }
   ],
   "source": [
    "# print(list(motion_0.recordings[\"Segment Position\"].columns).contains(\"x\"))\n",
    "meta_data_0 = mtn.MetaData(\"P01_B_cut\", 7600, 7850, \"aa\", RECORDING_TYPES)\n",
    "meta_data_1 = mtn.MetaData(\"P02_B_cut\", 7600, 7850, \"bb\", RECORDING_TYPES)\n",
    "\n",
    "motions = get_motions([meta_data_0], RECORDING_TYPES)\n",
    "\n",
    "\n",
    "\n",
    "\n",
    "\n",
    "# animation_settings = anmtn.Setting(\n",
    "#     flag_visualized_vector=True,\n",
    "#     flag_heatmap=False,\n",
    "#     flag_repeat=True,\n",
    "#     visualized_vector=\"Segment Angular Velocity\",\n",
    "#     heatmap_recording=\"Score\",\n",
    "# )\n",
    "#\n",
    "# anmtn.Animation(motions, animation_settings).show()\n",
    "# motion_0.centre().confront()\n",
    "#\n",
    "# motion_1 = mt.get_motion(\"P01_B_cut\", [\"Segment Position\", \"Segment Angular Velocity\"], 9300, 9800, \"bb\")\n",
    "# motion_1.centre().confront()\n",
    "#\n",
    "# synced_motion_1 = motion_1.synchronized_by(motion_0, pd_weight, [7600, 7850])"
   ],
   "metadata": {
    "collapsed": false
   }
  },
  {
   "cell_type": "code",
   "execution_count": 14,
   "outputs": [
    {
     "name": "stdout",
     "output_type": "stream",
     "text": [
      "<class 'pandas.core.series.Series'>\n"
     ]
    },
    {
     "data": {
      "text/plain": "0.03277401473369857"
     },
     "execution_count": 14,
     "metadata": {},
     "output_type": "execute_result"
    }
   ],
   "source": [
    "r = motions[0].recordings[RECORDING_FOR_SKELETON].iloc[0]\n",
    "print(type(r))\n",
    "euclidean(r[[\"Head x\", \"Head y\"]], r[[\"Neck x\",\"Neck y\"]])\n",
    "# s = motions[0].get_body_size()\n",
    "# print(s)"
   ],
   "metadata": {
    "collapsed": false
   }
  },
  {
   "cell_type": "code",
   "execution_count": null,
   "outputs": [],
   "source": [],
   "metadata": {
    "collapsed": false,
    "pycharm": {
     "is_executing": true
    }
   }
  },
  {
   "cell_type": "code",
   "execution_count": 12,
   "outputs": [],
   "source": [],
   "metadata": {
    "collapsed": false
   }
  }
 ],
 "metadata": {
  "kernelspec": {
   "display_name": "Python 3",
   "language": "python",
   "name": "python3"
  },
  "language_info": {
   "codemirror_mode": {
    "name": "ipython",
    "version": 3
   },
   "file_extension": ".py",
   "mimetype": "text/x-python",
   "name": "python",
   "nbconvert_exporter": "python",
   "pygments_lexer": "ipython3",
   "version": "3.11.0"
  },
  "orig_nbformat": 4,
  "vscode": {
   "interpreter": {
    "hash": "c261aea317cc0286b3b3261fbba9abdec21eaa57589985bb7a274bf54d6cc0a7"
   }
  }
 },
 "nbformat": 4,
 "nbformat_minor": 2
}
