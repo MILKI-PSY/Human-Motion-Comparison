{
 "cells": [
  {
   "cell_type": "code",
   "execution_count": 1,
   "metadata": {
    "collapsed": true
   },
   "outputs": [
    {
     "name": "stdout",
     "output_type": "stream",
     "text": [
      "Importing the dtw module. When using in academic works please cite:\n",
      "  T. Giorgino. Computing and Visualizing Dynamic Time Warping Alignments in R: The dtw Package.\n",
      "  J. Stat. Soft., doi:10.18637/jss.v031.i07.\n",
      "\n",
      "     Pelvis      Neck      Head  Right Upper Arm  Right Forearm  Right Hand  \\\n",
      "0  0.086604  0.130365  0.144147         0.083127       0.034888    0.071162   \n",
      "1  0.087918  0.131823  0.145807         0.085116       0.034178    0.071856   \n",
      "2  0.089264  0.133269  0.147454         0.087137       0.033374    0.072441   \n",
      "3  0.090640  0.134696  0.149075         0.089184       0.032457    0.072892   \n",
      "4  0.092042  0.136098  0.150661         0.091254       0.031412    0.073183   \n",
      "\n",
      "   Left Upper Arm  Left Forearm  Left Hand  Right Upper Leg  Right Lower Leg  \\\n",
      "0        0.140806      0.131366   0.319462         0.074144         0.056353   \n",
      "1        0.141397      0.132605   0.324656         0.075735         0.058421   \n",
      "2        0.141983      0.133803   0.329665         0.077360         0.060497   \n",
      "3        0.142556      0.134947   0.334453         0.079022         0.062581   \n",
      "4        0.143106      0.136025   0.338984         0.080721         0.064674   \n",
      "\n",
      "   Right Foot  Left Upper Leg  Left Lower Leg  Left Foot  \n",
      "0    0.009655        0.100397        0.120912   0.437095  \n",
      "1    0.009707        0.101382        0.117800   0.437290  \n",
      "2    0.009759        0.102394        0.114853   0.437063  \n",
      "3    0.009810        0.103429        0.112099   0.436405  \n",
      "4    0.009856        0.104482        0.109562   0.435307  \n"
     ]
    }
   ],
   "source": [
    "import matplotlib\n",
    "import matplotlib.pyplot as plt\n",
    "import matplotlib.animation as animation\n",
    "import numpy as np\n",
    "import pandas as pd\n",
    "import math\n",
    "from dtw import *\n",
    "from scipy.spatial.distance import euclidean, pdist\n",
    "from constants import *\n",
    "\n",
    "matplotlib.use('Qt5Agg')\n",
    "\n",
    "DATA_PATH = \"C:\\\\Users\\\\gaoch\\\\MA\\\\Badminton weights\\\\P01_B\\\\\"\n",
    "\n",
    "SHEET_NAME = [\"Segment Position\", \"Segment Velocity\", \"Segment Acceleration\"]\n",
    "\n",
    "used_cols = []\n",
    "for joints in SIMPLIFIED_JOINTS:\n",
    "    used_cols.append(joints + \" x\")\n",
    "    used_cols.append(joints + \" y\")\n",
    "    used_cols.append(joints + \" z\")\n",
    "\n",
    "DATA_PATH = \"C:\\\\Users\\\\gaoch\\\\MA\\\\Badminton weights\\\\P01_B\\\\head10000\\\\\"\n",
    "\n",
    "SHEET_NAME = [\"Segment Position\", \"Segment Velocity\", \"Segment Acceleration\"]\n",
    "\n",
    "# motion_recording = pd.read_excel(DATA_PATH + \"P01_B_noweightwithgloves.xlsx\",\n",
    "#                          sheet_name = SHEET_NAME,\n",
    "#                          usecols = used_cols)\n",
    "\n",
    "position_recording_0 = pd.read_csv(DATA_PATH + \"position.csv\")[2650:2800]\n",
    "velocity_recording_0 = pd.read_csv(DATA_PATH + \"velocity.csv\")[2650:2800]\n",
    "position_recording_1 = pd.read_csv(DATA_PATH + \"position.csv\")[2600:2750]\n",
    "\n",
    "\n",
    "def frame_distance(frame_0, frame_1):\n",
    "    distances = []\n",
    "    for index in range(0, len(frame_0), 3):\n",
    "        joint_in_frame_0 = [frame_0[index], frame_0[index + 1], frame_0[index + 2]]\n",
    "        joint_in_frame_1 = [frame_1[index], frame_1[index + 1], frame_1[index + 2]]\n",
    "        distances.append(euclidean(joint_in_frame_0, joint_in_frame_1))\n",
    "    distances.append(sum(distances))\n",
    "    return distances\n",
    "\n",
    "\n",
    "joints_distances = {}\n",
    "for index, joint in enumerate(SIMPLIFIED_JOINTS):\n",
    "    joints_distances[joint] = np.sqrt(np.sum(np.square(\n",
    "        position_recording_0.iloc[:, index * 3:index * 3 + 3].values - position_recording_1.iloc[:,\n",
    "                                                                       index * 3:index * 3 + 3].values), axis=1))\n",
    "\n",
    "df = pd.DataFrame(joints_distances)\n",
    "print(df.head())"
   ]
  },
  {
   "cell_type": "code",
   "execution_count": 2,
   "outputs": [
    {
     "name": "stdout",
     "output_type": "stream",
     "text": [
      "0\n",
      "Pelvis\n",
      "1\n",
      "Neck\n",
      "2\n",
      "Head\n",
      "3\n",
      "Right Upper Arm\n",
      "4\n",
      "Right Forearm\n",
      "5\n",
      "Right Hand\n",
      "6\n",
      "Left Upper Arm\n",
      "7\n",
      "Left Forearm\n",
      "8\n",
      "Left Hand\n",
      "9\n",
      "Right Upper Leg\n",
      "10\n",
      "Right Lower Leg\n",
      "11\n",
      "Right Foot\n",
      "12\n",
      "Left Upper Leg\n",
      "13\n",
      "Left Lower Leg\n",
      "14\n",
      "Left Foot\n"
     ]
    }
   ],
   "source": [
    "for index, a in enumerate(SIMPLIFIED_JOINTS):\n",
    "    print(index)\n",
    "    print(a)"
   ],
   "metadata": {
    "collapsed": false
   }
  },
  {
   "cell_type": "code",
   "execution_count": 2,
   "outputs": [],
   "source": [],
   "metadata": {
    "collapsed": false
   }
  }
 ],
 "metadata": {
  "kernelspec": {
   "display_name": "Python 3",
   "language": "python",
   "name": "python3"
  },
  "language_info": {
   "codemirror_mode": {
    "name": "ipython",
    "version": 2
   },
   "file_extension": ".py",
   "mimetype": "text/x-python",
   "name": "python",
   "nbconvert_exporter": "python",
   "pygments_lexer": "ipython2",
   "version": "2.7.6"
  }
 },
 "nbformat": 4,
 "nbformat_minor": 0
}
