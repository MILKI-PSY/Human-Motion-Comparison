{
 "cells": [
  {
   "cell_type": "code",
   "execution_count": 1,
   "outputs": [
    {
     "name": "stdout",
     "output_type": "stream",
     "text": [
      "Importing the dtw module. When using in academic works please cite:\n",
      "  T. Giorgino. Computing and Visualizing Dynamic Time Warping Alignments in R: The dtw Package.\n",
      "  J. Stat. Soft., doi:10.18637/jss.v031.i07.\n",
      "\n"
     ]
    }
   ],
   "source": [
    "import matplotlib\n",
    "from library.constants import *\n",
    "from library.IO import *\n",
    "from scipy.spatial.distance import euclidean, cdist\n",
    "import library.motion as mtn\n",
    "import library.animation as anmtn\n",
    "import pandas as pd\n",
    "import matplotlib.pyplot as plt\n",
    "import numpy as np\n",
    "\n",
    "matplotlib.use('Qt5Agg')\n",
    "\n",
    "weight = {}\n",
    "for joint in SIMPLIFIED_JOINTS:\n",
    "    weight[joint] = 1\n",
    "weight[\"Right Hand\"] = 0\n",
    "weight[\"Right Upper Arm\"] = 0\n",
    "weight[\"Right Forearm\"] = 0\n",
    "\n",
    "pd_weight = pd.DataFrame([weight])\n",
    "\n",
    "f = get_frame_wise_weights(pd_weight, [7600, 7850])\n",
    "\n"
   ],
   "metadata": {
    "collapsed": false
   }
  },
  {
   "cell_type": "code",
   "execution_count": 2,
   "outputs": [
    {
     "name": "stdout",
     "output_type": "stream",
     "text": [
      "generating aa from P01_B_cut\n",
      "generating bb from P02_B_cut\n"
     ]
    }
   ],
   "source": [
    "# print(list(motion_0.recordings[\"Segment Position\"].columns).contains(\"x\"))\n",
    "meta_data_0 = mtn.MetaData(\"P01_B_cut\", 7600, 7850, \"aa\", RECORDING_TYPES)\n",
    "meta_data_1 = mtn.MetaData(\"P02_B_cut\", 7600, 7850, \"bb\", RECORDING_TYPES)\n",
    "\n",
    "motions = get_motions([meta_data_0, meta_data_1], RECORDING_TYPES)\n",
    "\n",
    "s = get_scores(motions[0].recordings[RECORDING_FOR_SCORE],\n",
    "                                     motions[1].recordings[RECORDING_FOR_SCORE],\n",
    "                                     f)\n",
    "\n",
    "\n",
    "animation_settings = anmtn.Setting(\n",
    "    flag_visualized_vector=True,\n",
    "    flag_heatmap=False,\n",
    "    flag_repeat=True,\n",
    "    visualized_vector=\"Segment Angular Velocity\",\n",
    "    heatmap_recording=\"Score\",\n",
    ")\n",
    "\n",
    "# anmtn.Animation(motions, animation_settings).show()\n",
    "# motion_0.centre().confront()\n",
    "#\n",
    "# motion_1 = mt.get_motion(\"P01_B_cut\", [\"Segment Position\", \"Segment Angular Velocity\"], 9300, 9800, \"bb\")\n",
    "# motion_1.centre().confront()\n",
    "#\n",
    "# synced_motion_1 = motion_1.synchronized_by(motion_0, pd_weight, [7600, 7850])"
   ],
   "metadata": {
    "collapsed": false
   }
  },
  {
   "cell_type": "code",
   "execution_count": 3,
   "outputs": [
    {
     "name": "stdout",
     "output_type": "stream",
     "text": [
      "0      0.0\n",
      "1      0.0\n",
      "2      0.0\n",
      "3      0.0\n",
      "4      0.0\n",
      "      ... \n",
      "245    0.0\n",
      "246    0.0\n",
      "247    0.0\n",
      "248    0.0\n",
      "249    0.0\n",
      "Name: Right Upper Arm, Length: 250, dtype: object\n"
     ]
    }
   ],
   "source": [
    "print(s[\"Right Upper Arm\"])"
   ],
   "metadata": {
    "collapsed": false
   }
  },
  {
   "cell_type": "code",
   "execution_count": 4,
   "outputs": [
    {
     "name": "stdout",
     "output_type": "stream",
     "text": [
      "    Pelvis Neck Head Right Upper Arm Right Forearm Right Hand Left Upper Arm  \\\n",
      "0        1    1    1               0             0          0              1   \n",
      "1        1    1    1               0             0          0              1   \n",
      "2        1    1    1               0             0          0              1   \n",
      "3        1    1    1               0             0          0              1   \n",
      "4        1    1    1               0             0          0              1   \n",
      "..     ...  ...  ...             ...           ...        ...            ...   \n",
      "245      1    1    1               0             0          0              1   \n",
      "246      1    1    1               0             0          0              1   \n",
      "247      1    1    1               0             0          0              1   \n",
      "248      1    1    1               0             0          0              1   \n",
      "249      1    1    1               0             0          0              1   \n",
      "\n",
      "    Left Forearm Left Hand Right Upper Leg Right Lower Leg Right Foot  \\\n",
      "0              1         1               1               1          1   \n",
      "1              1         1               1               1          1   \n",
      "2              1         1               1               1          1   \n",
      "3              1         1               1               1          1   \n",
      "4              1         1               1               1          1   \n",
      "..           ...       ...             ...             ...        ...   \n",
      "245            1         1               1               1          1   \n",
      "246            1         1               1               1          1   \n",
      "247            1         1               1               1          1   \n",
      "248            1         1               1               1          1   \n",
      "249            1         1               1               1          1   \n",
      "\n",
      "    Left Upper Leg Left Lower Leg Left Foot  \n",
      "0                1              1         1  \n",
      "1                1              1         1  \n",
      "2                1              1         1  \n",
      "3                1              1         1  \n",
      "4                1              1         1  \n",
      "..             ...            ...       ...  \n",
      "245              1              1         1  \n",
      "246              1              1         1  \n",
      "247              1              1         1  \n",
      "248              1              1         1  \n",
      "249              1              1         1  \n",
      "\n",
      "[250 rows x 15 columns]\n"
     ]
    }
   ],
   "source": [
    "print(f)"
   ],
   "metadata": {
    "collapsed": false
   }
  },
  {
   "cell_type": "code",
   "execution_count": 4,
   "outputs": [],
   "source": [],
   "metadata": {
    "collapsed": false
   }
  }
 ],
 "metadata": {
  "kernelspec": {
   "display_name": "Python 3",
   "language": "python",
   "name": "python3"
  },
  "language_info": {
   "codemirror_mode": {
    "name": "ipython",
    "version": 3
   },
   "file_extension": ".py",
   "mimetype": "text/x-python",
   "name": "python",
   "nbconvert_exporter": "python",
   "pygments_lexer": "ipython3",
   "version": "3.11.0"
  },
  "orig_nbformat": 4,
  "vscode": {
   "interpreter": {
    "hash": "c261aea317cc0286b3b3261fbba9abdec21eaa57589985bb7a274bf54d6cc0a7"
   }
  }
 },
 "nbformat": 4,
 "nbformat_minor": 2
}
