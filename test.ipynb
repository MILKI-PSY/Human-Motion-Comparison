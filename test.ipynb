{
 "cells": [
  {
   "cell_type": "code",
   "execution_count": 2,
   "outputs": [],
   "source": [
    "import matplotlib.pyplot as plt\n",
    "import matplotlib\n",
    "from mpl_toolkits.mplot3d import Axes3D\n",
    "matplotlib.use('Qt5Agg')\n",
    "ax = plt.figure().add_subplot(projection='3d')\n",
    "\n",
    "# Demo 1: zdir\n",
    "zdirs = (None, 'x', 'y', 'z', (1, 1, 0), (1, 1, 1))\n",
    "xs = (1, 4, 4, 9, 4, 1)\n",
    "ys = (2, 5, 8, 10, 1, 2)\n",
    "zs = (10, 3, 8, 9, 1, 8)\n",
    "\n",
    "for zdir, x, y, z in zip(zdirs, xs, ys, zs):\n",
    "    label = '(%d, %d, %d), dir=%s' % (x, y, z, zdir)\n",
    "    ax.text(x, y, z, label, zdir)\n",
    "\n",
    "# Demo 2: color\n",
    "ax.text(9, 0, 0, \"red\", color='red')\n",
    "\n",
    "# Demo 3: text2D\n",
    "# Placement 0, 0 would be the bottom left, 1, 1 would be the top right.\n",
    "aa = ax.text2D(0.05, 0.95, \"2D Text\", transform=ax.transAxes)\n",
    "\n",
    "# Tweaking display region and labels\n",
    "ax.set_xlim(0, 10)\n",
    "ax.set_ylim(0, 10)\n",
    "ax.set_zlim(0, 10)\n",
    "ax.set_xlabel('X axis')\n",
    "ax.set_ylabel('Y axis')\n",
    "ax.set_zlabel('Z axis')\n",
    "\n",
    "aa.set_text(\"asds\")\n",
    "\n",
    "plt.show()\n"
   ],
   "metadata": {
    "collapsed": false
   }
  },
  {
   "cell_type": "code",
   "execution_count": null,
   "outputs": [],
   "source": [],
   "metadata": {
    "collapsed": false
   }
  }
 ],
 "metadata": {
  "kernelspec": {
   "display_name": "Python 3",
   "language": "python",
   "name": "python3"
  },
  "language_info": {
   "codemirror_mode": {
    "name": "ipython",
    "version": 2
   },
   "file_extension": ".py",
   "mimetype": "text/x-python",
   "name": "python",
   "nbconvert_exporter": "python",
   "pygments_lexer": "ipython2",
   "version": "2.7.6"
  }
 },
 "nbformat": 4,
 "nbformat_minor": 0
}
