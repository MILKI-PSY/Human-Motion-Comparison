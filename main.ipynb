{
 "cells": [
  {
   "cell_type": "code",
   "execution_count": 6,
   "metadata": {},
   "outputs": [],
   "source": [
    "import matplotlib\n",
    "from constants import *\n",
    "from scipy.spatial.distance import euclidean, cdist\n",
    "import library.motion as mt\n",
    "from library.animation import Animation\n",
    "import pandas as pd\n",
    "import matplotlib.pyplot as plt\n",
    "\n",
    "matplotlib.use('Qt5Agg')\n",
    "\n",
    "DATA_PATH = \"C:\\\\Users\\\\gaoch\\\\MA\\\\Badminton weights\\\\cuts\\\\\"\n",
    "\n",
    "extra_path = \"P1\\\\\"\n",
    "position_recording_0 = pd.read_csv(DATA_PATH + extra_path + \"position.csv\")[2600:2850]\n",
    "velocity_recording_0 = pd.read_csv(DATA_PATH + extra_path + \"velocity.csv\")[2600:2850]\n",
    "angular_velocity_recording_0 = pd.read_csv(DATA_PATH + extra_path + \"angular_velocity.csv\")[2600:2850] / 10\n",
    "acceleration_recording_0 = pd.read_csv(DATA_PATH + extra_path + \"acceleration.csv\")[2600:2850] / 10\n",
    "\n",
    "position_recording_2 = pd.read_csv(DATA_PATH + extra_path + \"position.csv\")[4300:4800]\n",
    "velocity_recording_2= pd.read_csv(DATA_PATH + extra_path + \"velocity.csv\")[4300:4800]\n",
    "angular_velocity_recording_2 = pd.read_csv(DATA_PATH + extra_path + \"angular_velocity.csv\")[4300:4800] / 10\n",
    "acceleration_recording_2 = pd.read_csv(DATA_PATH + extra_path + \"angular_acceleration.csv\")[4300:4800] / 10\n",
    "\n",
    "extra_path = \"P2\\\\\"\n",
    "position_recording_1 = pd.read_csv(DATA_PATH + extra_path + \"position.csv\")[2500:3200]\n",
    "velocity_recording_1 = pd.read_csv(DATA_PATH + extra_path + \"velocity.csv\")[2500:3200]\n",
    "angular_velocity_recording_1 = pd.read_csv(DATA_PATH + extra_path + \"angular_velocity.csv\")[2500:3200] / 10\n",
    "acceleration_recording_1 = pd.read_csv(DATA_PATH + extra_path + \"acceleration.csv\")[2500:3200] / 10"
   ]
  },
  {
   "cell_type": "code",
   "execution_count": 7,
   "outputs": [],
   "source": [
    "motion_0 = mt.Motion(position_recording_0, angular_velocity_recording_0)\n",
    "motion_1 = mt.Motion(position_recording_1, angular_velocity_recording_1)\n",
    "\n",
    "motion_0.centre().confront()\n",
    "motion_1.centre().confront()\n",
    "\n",
    "\n",
    "motion_0.weights[\"Right Forearm\"] = 5\n",
    "motion_0.weights[\"Right Upper Arm\"] = 5\n",
    "motion_0.weights[\"Right Hand\"] = 5\n",
    "\n",
    "synced_motion_0 = motion_1.synchronized_by(motion_0)"
   ],
   "metadata": {
    "collapsed": false
   }
  },
  {
   "cell_type": "code",
   "execution_count": 8,
   "outputs": [],
   "source": [
    "# wights[\"Right Hand\"] = 10\n",
    "# wights[\"Right Forearm\"] = 10\n",
    "# wights[\"Right Upper Arm\"] = 10\n",
    "#\n",
    "# synced_motion_1 = mt.synchronize_motions(motion_0, motion_1, wights)"
   ],
   "metadata": {
    "collapsed": false
   }
  },
  {
   "cell_type": "code",
   "execution_count": 9,
   "outputs": [],
   "source": [
    "# joints_distance = nmlz.get_scores(position_recording_0, synced_position_recording_2)\n",
    "#\n",
    "# print(joints_distance.head())"
   ],
   "metadata": {
    "collapsed": false
   }
  },
  {
   "cell_type": "code",
   "execution_count": 10,
   "outputs": [],
   "source": [
    "ani = Animation([motion_0, synced_motion_0], is_repeat=True)\n",
    "ani.set_with_visualized_velocities(False)\n",
    "plt.show()"
   ],
   "metadata": {
    "collapsed": false
   }
  },
  {
   "cell_type": "code",
   "execution_count": 10,
   "outputs": [],
   "source": [],
   "metadata": {
    "collapsed": false
   }
  },
  {
   "cell_type": "code",
   "execution_count": 10,
   "outputs": [],
   "source": [],
   "metadata": {
    "collapsed": false
   }
  }
 ],
 "metadata": {
  "kernelspec": {
   "display_name": "Python 3",
   "language": "python",
   "name": "python3"
  },
  "language_info": {
   "codemirror_mode": {
    "name": "ipython",
    "version": 3
   },
   "file_extension": ".py",
   "mimetype": "text/x-python",
   "name": "python",
   "nbconvert_exporter": "python",
   "pygments_lexer": "ipython3",
   "version": "3.11.0"
  },
  "orig_nbformat": 4,
  "vscode": {
   "interpreter": {
    "hash": "c261aea317cc0286b3b3261fbba9abdec21eaa57589985bb7a274bf54d6cc0a7"
   }
  }
 },
 "nbformat": 4,
 "nbformat_minor": 2
}
