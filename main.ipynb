{
 "cells": [
  {
   "cell_type": "code",
   "execution_count": 1,
   "metadata": {},
   "outputs": [
    {
     "name": "stdout",
     "output_type": "stream",
     "text": [
      "Importing the dtw module. When using in academic works please cite:\n",
      "  T. Giorgino. Computing and Visualizing Dynamic Time Warping Alignments in R: The dtw Package.\n",
      "  J. Stat. Soft., doi:10.18637/jss.v031.i07.\n",
      "\n"
     ]
    }
   ],
   "source": [
    "import matplotlib\n",
    "from constants import *\n",
    "from scipy.spatial.distance import euclidean, cdist\n",
    "import library.motion as mt\n",
    "from library.animation import Animation\n",
    "import pandas as pd\n",
    "\n",
    "\n",
    "matplotlib.use('Qt5Agg')\n",
    "\n",
    "DATA_PATH = \"C:\\\\Users\\\\gaoch\\\\MA\\\\Badminton weights\\\\P01_B\\\\cuts\\\\\"\n",
    "\n",
    "position_recording_0 = pd.read_csv(DATA_PATH + \"position.csv\")[2600:2850]\n",
    "velocity_recording_0 = pd.read_csv(DATA_PATH + \"velocity.csv\")[2600:2850]\n",
    "\n",
    "position_recording_1 = pd.read_csv(DATA_PATH + \"position.csv\")[2600:2750]\n",
    "\n",
    "position_recording_2 = pd.read_csv(DATA_PATH + \"position_with_weight.csv\")[800:1400]\n",
    "velocity_recording_2 = pd.read_csv(DATA_PATH + \"velocity_with_weight.csv\")[800:1400]"
   ]
  },
  {
   "cell_type": "code",
   "execution_count": 2,
   "outputs": [],
   "source": [
    "motion_0 = mt.Motion(position_recording_0, velocity_recording_0)\n",
    "motion_2 = mt.Motion(position_recording_2, velocity_recording_2)\n",
    "\n",
    "mt.centre(motion_0)\n",
    "mt.centre(motion_2)\n",
    "\n",
    "mt.confront(motion_0)\n",
    "mt.confront(motion_2)\n",
    "\n",
    "synced_motion_2 = mt.synchronize_motions(motion_0, motion_2)\n"
   ],
   "metadata": {
    "collapsed": false
   }
  },
  {
   "cell_type": "code",
   "execution_count": 3,
   "outputs": [],
   "source": [
    "# joints_distance = nmlz.get_scores(position_recording_0, synced_position_recording_2)\n",
    "#\n",
    "# print(joints_distance.head())"
   ],
   "metadata": {
    "collapsed": false
   }
  },
  {
   "cell_type": "code",
   "execution_count": 5,
   "outputs": [],
   "source": [
    "recording_pairs_0 = pd.DataFrame(data = {\"position recording\": [motion_0.position_recording, synced_motion_2.position_recording], 'velocity recording': [velocity_recording_0, velocity_recording_2]})\n",
    "\n",
    "recording_pairs_1 = pd.DataFrame(data ={\"position recording\": [position_recording_0], 'velocity recording': [velocity_recording_0]})\n",
    "\n",
    "ani = Animation(recording_pairs_0)\n",
    "ani.set_with_visualized_velocities(False)\n",
    "ani.set_is_repeat(False)\n",
    "ani.show()"
   ],
   "metadata": {
    "collapsed": false
   }
  },
  {
   "cell_type": "code",
   "execution_count": 4,
   "outputs": [],
   "source": [],
   "metadata": {
    "collapsed": false
   }
  }
 ],
 "metadata": {
  "kernelspec": {
   "display_name": "Python 3",
   "language": "python",
   "name": "python3"
  },
  "language_info": {
   "codemirror_mode": {
    "name": "ipython",
    "version": 3
   },
   "file_extension": ".py",
   "mimetype": "text/x-python",
   "name": "python",
   "nbconvert_exporter": "python",
   "pygments_lexer": "ipython3",
   "version": "3.11.0"
  },
  "orig_nbformat": 4,
  "vscode": {
   "interpreter": {
    "hash": "c261aea317cc0286b3b3261fbba9abdec21eaa57589985bb7a274bf54d6cc0a7"
   }
  }
 },
 "nbformat": 4,
 "nbformat_minor": 2
}
