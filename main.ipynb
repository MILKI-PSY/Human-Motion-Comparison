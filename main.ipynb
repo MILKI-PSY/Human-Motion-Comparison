{
 "cells": [
  {
   "cell_type": "code",
   "execution_count": 1,
   "metadata": {},
   "outputs": [
    {
     "name": "stdout",
     "output_type": "stream",
     "text": [
      "Importing the dtw module. When using in academic works please cite:\n",
      "  T. Giorgino. Computing and Visualizing Dynamic Time Warping Alignments in R: The dtw Package.\n",
      "  J. Stat. Soft., doi:10.18637/jss.v031.i07.\n",
      "\n"
     ]
    }
   ],
   "source": [
    "import matplotlib\n",
    "from constants import *\n",
    "from scipy.spatial.distance import euclidean, cdist\n",
    "import library.motion as mt\n",
    "from library.animation import Animation\n",
    "import pandas as pd\n",
    "import matplotlib.pyplot as plt\n",
    "\n",
    "\n",
    "matplotlib.use('Qt5Agg')\n",
    "\n",
    "DATA_PATH = \"C:\\\\Users\\\\gaoch\\\\MA\\\\Badminton weights\\\\P01_B\\\\cuts\\\\\"\n",
    "\n",
    "position_recording_0 = pd.read_csv(DATA_PATH + \"V_0_pos.csv\")[2100:2600]\n",
    "velocity_recording_0 = pd.read_csv(DATA_PATH + \"V_0_vel.csv\")[2100:2600]\n",
    "\n",
    "\n",
    "position_recording_1 = pd.read_csv(DATA_PATH + \"V_1_pos.csv\")[1300:2300]\n",
    "velocity_recording_1 = pd.read_csv(DATA_PATH + \"V_1_vel.csv\")[1300:2300]\n"
   ]
  },
  {
   "cell_type": "code",
   "execution_count": 2,
   "outputs": [
    {
     "data": {
      "text/plain": "<library.motion.Motion at 0x174ac151850>"
     },
     "execution_count": 2,
     "metadata": {},
     "output_type": "execute_result"
    }
   ],
   "source": [
    "motion_0 = mt.Motion(position_recording_0, velocity_recording_0)\n",
    "motion_1 = mt.Motion(position_recording_1, velocity_recording_1)\n",
    "\n",
    "mt.centre(motion_0)\n",
    "mt.centre(motion_1)\n",
    "\n",
    "# mt.confront(motion_0)\n",
    "# mt.confront(motion_1)\n",
    "\n",
    "#synced_motion_1 = mt.synchronize_motions(motion_0, motion_1)\n"
   ],
   "metadata": {
    "collapsed": false
   }
  },
  {
   "cell_type": "code",
   "execution_count": 3,
   "outputs": [],
   "source": [
    "# joints_distance = nmlz.get_scores(position_recording_0, synced_position_recording_2)\n",
    "#\n",
    "# print(joints_distance.head())"
   ],
   "metadata": {
    "collapsed": false
   }
  },
  {
   "cell_type": "code",
   "execution_count": 4,
   "outputs": [],
   "source": [
    "ani = Animation([motion_0, motion_1])\n",
    "ani.save_as_gif(\"test\")\n",
    "plt.show()"
   ],
   "metadata": {
    "collapsed": false
   }
  },
  {
   "cell_type": "code",
   "execution_count": 4,
   "outputs": [],
   "source": [],
   "metadata": {
    "collapsed": false
   }
  },
  {
   "cell_type": "code",
   "execution_count": 4,
   "outputs": [],
   "source": [],
   "metadata": {
    "collapsed": false
   }
  }
 ],
 "metadata": {
  "kernelspec": {
   "display_name": "Python 3",
   "language": "python",
   "name": "python3"
  },
  "language_info": {
   "codemirror_mode": {
    "name": "ipython",
    "version": 3
   },
   "file_extension": ".py",
   "mimetype": "text/x-python",
   "name": "python",
   "nbconvert_exporter": "python",
   "pygments_lexer": "ipython3",
   "version": "3.11.0"
  },
  "orig_nbformat": 4,
  "vscode": {
   "interpreter": {
    "hash": "c261aea317cc0286b3b3261fbba9abdec21eaa57589985bb7a274bf54d6cc0a7"
   }
  }
 },
 "nbformat": 4,
 "nbformat_minor": 2
}
