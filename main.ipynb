{
 "cells": [
  {
   "cell_type": "code",
   "execution_count": 11,
   "metadata": {},
   "outputs": [],
   "source": [
    "import matplotlib\n",
    "from constants import *\n",
    "from scipy.spatial.distance import euclidean, cdist\n",
    "import library.normalization as nmlz\n",
    "from library.animation import Animation\n",
    "import pandas as pd\n",
    "\n",
    "\n",
    "matplotlib.use('Qt5Agg')\n",
    "\n",
    "DATA_PATH = \"C:\\\\Users\\\\gaoch\\\\MA\\\\Badminton weights\\\\P01_B\\\\head10000\\\\\"\n",
    "\n",
    "SHEET_NAME = [\"Segment Position\", \"Segment Velocity\", \"Segment Acceleration\"]\n",
    "\n",
    "# motion_recording = pd.read_excel(DATA_PATH + \"P01_B_noweightwithgloves.xlsx\",\n",
    "#                          sheet_name = SHEET_NAME,\n",
    "#                          usecols = used_cols)\n",
    "\n",
    "position_recording_0 = pd.read_csv(DATA_PATH + \"position.csv\")[2650:2800]\n",
    "velocity_recording_0 = pd.read_csv(DATA_PATH + \"velocity.csv\")[2650:2800]\n",
    "\n",
    "position_recording_1 = pd.read_csv(DATA_PATH + \"position.csv\")[2600:2750]\n",
    "\n",
    "position_recording_2 = pd.read_csv(DATA_PATH + \"position.csv\")[4300:4780]\n",
    "velocity_recording_2 = pd.read_csv(DATA_PATH + \"velocity.csv\")[4300:4780]"
   ]
  },
  {
   "cell_type": "code",
   "execution_count": 12,
   "outputs": [],
   "source": [
    "rotation_parameters_1 = nmlz.get_rotation_parameters(position_recording_0)\n",
    "rotation_parameters_2 = nmlz.get_rotation_parameters(position_recording_2)\n",
    "\n",
    "nmlz.confront(nmlz.centre(position_recording_0), rotation_parameters_1)\n",
    "nmlz.confront(nmlz.centre(position_recording_2), rotation_parameters_2)\n",
    "\n",
    "synced_position_recording_2 = nmlz.synchronize_motions(velocity_recording_0, velocity_recording_2, position_recording_2)"
   ],
   "metadata": {
    "collapsed": false
   }
  },
  {
   "cell_type": "code",
   "execution_count": 13,
   "outputs": [
    {
     "ename": "ValueError",
     "evalue": "setting an array element with a sequence.",
     "output_type": "error",
     "traceback": [
      "\u001B[1;31m---------------------------------------------------------------------------\u001B[0m",
      "\u001B[1;31mTypeError\u001B[0m                                 Traceback (most recent call last)",
      "\u001B[1;31mTypeError\u001B[0m: float() argument must be a string or a number, not 'list'",
      "\nThe above exception was the direct cause of the following exception:\n",
      "\u001B[1;31mValueError\u001B[0m                                Traceback (most recent call last)",
      "\u001B[1;32m~\\AppData\\Local\\Temp\\ipykernel_17052\\3817771946.py\u001B[0m in \u001B[0;36m<module>\u001B[1;34m\u001B[0m\n\u001B[0;32m      8\u001B[0m     \u001B[1;32mreturn\u001B[0m \u001B[0mdistances\u001B[0m\u001B[1;33m\u001B[0m\u001B[1;33m\u001B[0m\u001B[0m\n\u001B[0;32m      9\u001B[0m \u001B[1;33m\u001B[0m\u001B[0m\n\u001B[1;32m---> 10\u001B[1;33m \u001B[0mcdist\u001B[0m\u001B[1;33m(\u001B[0m\u001B[0mposition_recording_0\u001B[0m\u001B[1;33m,\u001B[0m \u001B[0mposition_recording_1\u001B[0m\u001B[1;33m,\u001B[0m \u001B[0mframe_distance\u001B[0m\u001B[1;33m)\u001B[0m\u001B[1;33m\u001B[0m\u001B[1;33m\u001B[0m\u001B[0m\n\u001B[0m\u001B[0;32m     11\u001B[0m \u001B[1;33m\u001B[0m\u001B[0m\n",
      "\u001B[1;32mC:\\ProgramData\\Anaconda3\\lib\\site-packages\\scipy\\spatial\\distance.py\u001B[0m in \u001B[0;36mcdist\u001B[1;34m(XA, XB, metric, out, **kwargs)\u001B[0m\n\u001B[0;32m   2921\u001B[0m             XA, XB, typ, kwargs = _validate_cdist_input(\n\u001B[0;32m   2922\u001B[0m                 XA, XB, mA, mB, n, metric_info, **kwargs)\n\u001B[1;32m-> 2923\u001B[1;33m         \u001B[1;32mreturn\u001B[0m \u001B[0m_cdist_callable\u001B[0m\u001B[1;33m(\u001B[0m\u001B[0mXA\u001B[0m\u001B[1;33m,\u001B[0m \u001B[0mXB\u001B[0m\u001B[1;33m,\u001B[0m \u001B[0mmetric\u001B[0m\u001B[1;33m=\u001B[0m\u001B[0mmetric\u001B[0m\u001B[1;33m,\u001B[0m \u001B[0mout\u001B[0m\u001B[1;33m=\u001B[0m\u001B[0mout\u001B[0m\u001B[1;33m,\u001B[0m \u001B[1;33m**\u001B[0m\u001B[0mkwargs\u001B[0m\u001B[1;33m)\u001B[0m\u001B[1;33m\u001B[0m\u001B[1;33m\u001B[0m\u001B[0m\n\u001B[0m\u001B[0;32m   2924\u001B[0m     \u001B[1;32melif\u001B[0m \u001B[0misinstance\u001B[0m\u001B[1;33m(\u001B[0m\u001B[0mmetric\u001B[0m\u001B[1;33m,\u001B[0m \u001B[0mstr\u001B[0m\u001B[1;33m)\u001B[0m\u001B[1;33m:\u001B[0m\u001B[1;33m\u001B[0m\u001B[1;33m\u001B[0m\u001B[0m\n\u001B[0;32m   2925\u001B[0m         \u001B[0mmstr\u001B[0m \u001B[1;33m=\u001B[0m \u001B[0mmetric\u001B[0m\u001B[1;33m.\u001B[0m\u001B[0mlower\u001B[0m\u001B[1;33m(\u001B[0m\u001B[1;33m)\u001B[0m\u001B[1;33m\u001B[0m\u001B[1;33m\u001B[0m\u001B[0m\n",
      "\u001B[1;32mC:\\ProgramData\\Anaconda3\\lib\\site-packages\\scipy\\spatial\\distance.py\u001B[0m in \u001B[0;36m_cdist_callable\u001B[1;34m(XA, XB, out, metric, **kwargs)\u001B[0m\n\u001B[0;32m   2593\u001B[0m     \u001B[1;32mfor\u001B[0m \u001B[0mi\u001B[0m \u001B[1;32min\u001B[0m \u001B[0mrange\u001B[0m\u001B[1;33m(\u001B[0m\u001B[0mmA\u001B[0m\u001B[1;33m)\u001B[0m\u001B[1;33m:\u001B[0m\u001B[1;33m\u001B[0m\u001B[1;33m\u001B[0m\u001B[0m\n\u001B[0;32m   2594\u001B[0m         \u001B[1;32mfor\u001B[0m \u001B[0mj\u001B[0m \u001B[1;32min\u001B[0m \u001B[0mrange\u001B[0m\u001B[1;33m(\u001B[0m\u001B[0mmB\u001B[0m\u001B[1;33m)\u001B[0m\u001B[1;33m:\u001B[0m\u001B[1;33m\u001B[0m\u001B[1;33m\u001B[0m\u001B[0m\n\u001B[1;32m-> 2595\u001B[1;33m             \u001B[0mdm\u001B[0m\u001B[1;33m[\u001B[0m\u001B[0mi\u001B[0m\u001B[1;33m,\u001B[0m \u001B[0mj\u001B[0m\u001B[1;33m]\u001B[0m \u001B[1;33m=\u001B[0m \u001B[0mmetric\u001B[0m\u001B[1;33m(\u001B[0m\u001B[0mXA\u001B[0m\u001B[1;33m[\u001B[0m\u001B[0mi\u001B[0m\u001B[1;33m]\u001B[0m\u001B[1;33m,\u001B[0m \u001B[0mXB\u001B[0m\u001B[1;33m[\u001B[0m\u001B[0mj\u001B[0m\u001B[1;33m]\u001B[0m\u001B[1;33m,\u001B[0m \u001B[1;33m**\u001B[0m\u001B[0mkwargs\u001B[0m\u001B[1;33m)\u001B[0m\u001B[1;33m\u001B[0m\u001B[1;33m\u001B[0m\u001B[0m\n\u001B[0m\u001B[0;32m   2596\u001B[0m     \u001B[1;32mreturn\u001B[0m \u001B[0mdm\u001B[0m\u001B[1;33m\u001B[0m\u001B[1;33m\u001B[0m\u001B[0m\n\u001B[0;32m   2597\u001B[0m \u001B[1;33m\u001B[0m\u001B[0m\n",
      "\u001B[1;31mValueError\u001B[0m: setting an array element with a sequence."
     ]
    }
   ],
   "source": [
    "\n"
   ],
   "metadata": {
    "collapsed": false
   }
  },
  {
   "cell_type": "code",
   "execution_count": null,
   "outputs": [],
   "source": [
    "recording_pairs = pd.DataFrame(data = {\"position recording\": [position_recording_0, synced_position_recording_2], 'velocity recording': [velocity_recording_0, velocity_recording_2]})\n",
    "\n",
    "ani = Animation(recording_pairs)\n",
    "ani.set_with_visualized_velocities(True)\n",
    "ani.show()"
   ],
   "metadata": {
    "collapsed": false
   }
  },
  {
   "cell_type": "code",
   "execution_count": null,
   "outputs": [],
   "source": [],
   "metadata": {
    "collapsed": false
   }
  }
 ],
 "metadata": {
  "kernelspec": {
   "display_name": "Python 3",
   "language": "python",
   "name": "python3"
  },
  "language_info": {
   "codemirror_mode": {
    "name": "ipython",
    "version": 3
   },
   "file_extension": ".py",
   "mimetype": "text/x-python",
   "name": "python",
   "nbconvert_exporter": "python",
   "pygments_lexer": "ipython3",
   "version": "3.11.0"
  },
  "orig_nbformat": 4,
  "vscode": {
   "interpreter": {
    "hash": "c261aea317cc0286b3b3261fbba9abdec21eaa57589985bb7a274bf54d6cc0a7"
   }
  }
 },
 "nbformat": 4,
 "nbformat_minor": 2
}
