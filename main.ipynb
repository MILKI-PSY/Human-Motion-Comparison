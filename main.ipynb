{
 "cells": [
  {
   "cell_type": "code",
   "execution_count": 5,
   "metadata": {},
   "outputs": [],
   "source": [
    "import matplotlib\n",
    "from constants import *\n",
    "from scipy.spatial.distance import euclidean, cdist\n",
    "import library.motion as mt\n",
    "from library.animation import Animation\n",
    "import pandas as pd\n",
    "import matplotlib.pyplot as plt\n",
    "\n",
    "\n",
    "matplotlib.use('Qt5Agg')\n",
    "\n",
    "DATA_PATH = \"C:\\\\Users\\\\gaoch\\\\MA\\\\Badminton weights\\\\P01_B\\\\cuts\\\\\"\n",
    "\n",
    "position_recording_0 = pd.read_csv(DATA_PATH + \"V_0_pos.csv\")[2100:2600]\n",
    "velocity_recording_0 = pd.read_csv(DATA_PATH + \"V_0_vel.csv\")[2100:2600]\n",
    "\n",
    "\n",
    "position_recording_1 = pd.read_csv(DATA_PATH + \"V_1_pos.csv\")[1300:2300]\n",
    "velocity_recording_1 = pd.read_csv(DATA_PATH + \"V_1_vel.csv\")[1300:2300]\n"
   ]
  },
  {
   "cell_type": "code",
   "execution_count": 6,
   "outputs": [
    {
     "data": {
      "text/plain": "<library.motion.Motion at 0x23b141d98b0>"
     },
     "execution_count": 6,
     "metadata": {},
     "output_type": "execute_result"
    }
   ],
   "source": [
    "motion_0 = mt.Motion(position_recording_0, velocity_recording_0)\n",
    "motion_1 = mt.Motion(position_recording_1, velocity_recording_1)\n",
    "\n",
    "mt.centre(motion_0)\n",
    "mt.centre(motion_1)\n",
    "\n",
    "# mt.confront(motion_0)\n",
    "# mt.confront(motion_1)\n",
    "\n",
    "#synced_motion_1 = mt.synchronize_motions(motion_0, motion_1)\n"
   ],
   "metadata": {
    "collapsed": false
   }
  },
  {
   "cell_type": "code",
   "execution_count": 7,
   "outputs": [
    {
     "name": "stdout",
     "output_type": "stream",
     "text": [
      "1000\n"
     ]
    }
   ],
   "source": [
    "# joints_distance = nmlz.get_scores(position_recording_0, synced_position_recording_2)\n",
    "#\n",
    "# print(joints_distance.head())\n",
    "\n",
    "print(len(max([motion_0, motion_1])))"
   ],
   "metadata": {
    "collapsed": false
   }
  },
  {
   "cell_type": "code",
   "execution_count": 8,
   "outputs": [],
   "source": [
    "ani = Animation([motion_0, motion_1])\n",
    "ani.set_with_visualized_velocities(False)\n",
    "ani.set_is_repeat(False)\n",
    "plt.show()"
   ],
   "metadata": {
    "collapsed": false
   }
  },
  {
   "cell_type": "code",
   "execution_count": 8,
   "outputs": [],
   "source": [],
   "metadata": {
    "collapsed": false
   }
  },
  {
   "cell_type": "code",
   "execution_count": 8,
   "outputs": [],
   "source": [],
   "metadata": {
    "collapsed": false
   }
  }
 ],
 "metadata": {
  "kernelspec": {
   "display_name": "Python 3",
   "language": "python",
   "name": "python3"
  },
  "language_info": {
   "codemirror_mode": {
    "name": "ipython",
    "version": 3
   },
   "file_extension": ".py",
   "mimetype": "text/x-python",
   "name": "python",
   "nbconvert_exporter": "python",
   "pygments_lexer": "ipython3",
   "version": "3.11.0"
  },
  "orig_nbformat": 4,
  "vscode": {
   "interpreter": {
    "hash": "c261aea317cc0286b3b3261fbba9abdec21eaa57589985bb7a274bf54d6cc0a7"
   }
  }
 },
 "nbformat": 4,
 "nbformat_minor": 2
}
