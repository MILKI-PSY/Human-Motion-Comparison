{
 "cells": [
  {
   "cell_type": "code",
   "execution_count": 1,
   "metadata": {},
   "outputs": [
    {
     "name": "stdout",
     "output_type": "stream",
     "text": [
      "Importing the dtw module. When using in academic works please cite:\n",
      "  T. Giorgino. Computing and Visualizing Dynamic Time Warping Alignments in R: The dtw Package.\n",
      "  J. Stat. Soft., doi:10.18637/jss.v031.i07.\n",
      "\n"
     ]
    }
   ],
   "source": [
    "import matplotlib\n",
    "from constants import *\n",
    "from scipy.spatial.distance import euclidean, cdist\n",
    "import library.normalization as nmlz\n",
    "from library.animation import Animation\n",
    "import pandas as pd\n",
    "\n",
    "\n",
    "matplotlib.use('Qt5Agg')\n",
    "\n",
    "DATA_PATH = \"C:\\\\Users\\\\gaoch\\\\MA\\\\Badminton weights\\\\P01_B\\\\head10000\\\\\"\n",
    "\n",
    "SHEET_NAME = [\"Segment Position\", \"Segment Velocity\", \"Segment Acceleration\"]\n",
    "\n",
    "# motion_recording = pd.read_excel(DATA_PATH + \"P01_B_noweightwithgloves.xlsx\",\n",
    "#                          sheet_name = SHEET_NAME,\n",
    "#                          usecols = used_cols)\n",
    "\n",
    "position_recording_0 = pd.read_csv(DATA_PATH + \"position.csv\")[2650:2800]\n",
    "velocity_recording_0 = pd.read_csv(DATA_PATH + \"velocity.csv\")[2650:2800]\n",
    "\n",
    "position_recording_1 = pd.read_csv(DATA_PATH + \"position.csv\")[2600:2750]\n",
    "\n",
    "position_recording_2 = pd.read_csv(DATA_PATH + \"position.csv\")[4300:4780]\n",
    "velocity_recording_2 = pd.read_csv(DATA_PATH + \"velocity.csv\")[4300:4780]"
   ]
  },
  {
   "cell_type": "code",
   "execution_count": 2,
   "outputs": [],
   "source": [
    "rotation_parameters_1 = nmlz.get_rotation_parameters(position_recording_0)\n",
    "rotation_parameters_2 = nmlz.get_rotation_parameters(position_recording_2)\n",
    "\n",
    "nmlz.confront(nmlz.centre(position_recording_0), rotation_parameters_1)\n",
    "nmlz.confront(nmlz.centre(position_recording_2), rotation_parameters_2)\n",
    "\n",
    "synced_position_recording_2 = nmlz.synchronize_motions(velocity_recording_0, velocity_recording_2, position_recording_2)"
   ],
   "metadata": {
    "collapsed": false
   }
  },
  {
   "cell_type": "code",
   "execution_count": 3,
   "outputs": [
    {
     "name": "stdout",
     "output_type": "stream",
     "text": [
      "     Pelvis      Neck      Head  Right Upper Arm  Right Forearm  Right Hand  \\\n",
      "0  0.575124  0.933491  1.115542         0.931036       0.287580    0.183311   \n",
      "1  0.583876  0.941300  1.104552         0.945207       0.368238    0.153119   \n",
      "2  0.592854  0.946423  1.108051         0.960234       0.389005    0.135593   \n",
      "3  0.602109  0.951774  1.112027         0.975471       0.410351    0.118819   \n",
      "4  0.611690  0.957448  1.116653         0.990888       0.432091    0.103797   \n",
      "\n",
      "   Left Upper Arm  Left Forearm  Left Hand  Right Upper Leg  Right Lower Leg  \\\n",
      "0        0.656936      0.444719   1.915473         0.689263         0.658956   \n",
      "1        0.676183      0.619804   2.109352         0.718529         0.715198   \n",
      "2        0.674479      0.607266   2.112058         0.734775         0.724909   \n",
      "3        0.673104      0.595807   2.113631         0.750763         0.734037   \n",
      "4        0.672250      0.585771   2.113700         0.766270         0.742227   \n",
      "\n",
      "   Right Foot  Left Upper Leg  Left Lower Leg  Left Foot    overall  \n",
      "0    0.979624        0.569256        0.610961   1.867390  12.418662  \n",
      "1    0.984891        0.569543        0.565334   1.753936  12.809062  \n",
      "2    0.986602        0.582106        0.565331   1.700878  12.820564  \n",
      "3    0.988156        0.595219        0.566270   1.647163  12.834702  \n",
      "4    0.989455        0.608580        0.568226   1.593489  12.852535  \n"
     ]
    }
   ],
   "source": [
    "joints_distance = nmlz.get_scores(velocity_recording_0, synced_position_recording_2)\n",
    "\n",
    "print(joints_distance.head())"
   ],
   "metadata": {
    "collapsed": false
   }
  },
  {
   "cell_type": "code",
   "execution_count": 6,
   "outputs": [],
   "source": [
    "recording_pairs = pd.DataFrame(data = {\"position recording\": [position_recording_0, synced_position_recording_2], 'velocity recording': [velocity_recording_0, velocity_recording_2]})\n",
    "\n",
    "ani = Animation(recording_pairs)\n",
    "ani.show()"
   ],
   "metadata": {
    "collapsed": false
   }
  }
 ],
 "metadata": {
  "kernelspec": {
   "display_name": "Python 3",
   "language": "python",
   "name": "python3"
  },
  "language_info": {
   "codemirror_mode": {
    "name": "ipython",
    "version": 3
   },
   "file_extension": ".py",
   "mimetype": "text/x-python",
   "name": "python",
   "nbconvert_exporter": "python",
   "pygments_lexer": "ipython3",
   "version": "3.11.0"
  },
  "orig_nbformat": 4,
  "vscode": {
   "interpreter": {
    "hash": "c261aea317cc0286b3b3261fbba9abdec21eaa57589985bb7a274bf54d6cc0a7"
   }
  }
 },
 "nbformat": 4,
 "nbformat_minor": 2
}
