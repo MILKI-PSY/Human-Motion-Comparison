{
 "cells": [
  {
   "cell_type": "code",
   "execution_count": 2,
   "metadata": {},
   "outputs": [],
   "source": [
    "import matplotlib\n",
    "import numpy as np\n",
    "import pandas as pd\n",
    "import matplotlib.pyplot as plt\n",
    "import matplotlib.animation as animation\n",
    "\n",
    "\n",
    "matplotlib.use('Qt5Agg')\n",
    "# Fixing random state for reproducibility\n",
    "np.random.seed(19680801)\n",
    "\n",
    "DATA_PATH = \"C:\\\\Users\\\\gaoch\\\\MA\\\\Badminton weights\\\\P01_B\\\\\"\n",
    "SHEET_NAME = [\"Segment Position\"]\n",
    "\n",
    "def read_data(file_name):\n",
    "    # return pd.read_excel(DATA_PATH + file_name,\n",
    "    #                      sheet_name = SHEET_NAME,\n",
    "    #                      usecols=[CHOSEN_SEGMENT + \"x\", CHOSEN_SEGMENT + \"y\", CHOSEN_SEGMENT + \"z\", BASE_SEGMENT + \"x\",\n",
    "    #                               BASE_SEGMENT + \"y\", BASE_SEGMENT + \"z\"])\n",
    "    return pd.read_excel(DATA_PATH + file_name,\n",
    "                         sheet_name = SHEET_NAME)\n",
    "\n",
    "motion_recording = read_data(\"P01_B_noweightwithgloves.xlsx\")"
   ]
  },
  {
   "cell_type": "code",
   "execution_count": 44,
   "outputs": [],
   "source": [
    "motion_recording_service_1 = motion_recording[\"Segment Position\"].loc[7650:7800]\n",
    "motion_recording_service_2 = motion_recording[\"Segment Position\"].loc[9450:9600]\n",
    "\n"
   ],
   "metadata": {
    "collapsed": false
   }
  },
  {
   "cell_type": "code",
   "execution_count": 45,
   "outputs": [],
   "source": [
    "skeleton_connection_map = [[\"Head\", \"Neck\"],\n",
    "                         [\"Neck\", \"Left Shoulder\"],\n",
    "                         [\"Left Shoulder\", \"Left Forearm\"],\n",
    "                         [\"Left Forearm\", \"Left Hand\"],\n",
    "                         [\"Neck\", \"Right Shoulder\"],\n",
    "                         [\"Right Shoulder\", \"Right Forearm\"],\n",
    "                         [\"Right Forearm\", \"Right Hand\"],\n",
    "                         [\"Neck\", \"Pelvis\"],\n",
    "                         [\"Pelvis\", \"Left Upper Leg\"],\n",
    "                         [\"Left Upper Leg\", \"Left Lower Leg\"],\n",
    "                         [\"Left Lower Leg\", \"Left Foot\"],\n",
    "                         [\"Pelvis\", \"Right Upper Leg\"],\n",
    "                         [\"Right Upper Leg\", \"Right Lower Leg\"],\n",
    "                         [\"Right Lower Leg\", \"Right Foot\"],]\n",
    "\n",
    "def update(index, recordings, lines):\n",
    "    chosen_frame =  recordings.iloc[index]\n",
    "    for line, joint_connection in zip(lines, skeleton_connection_map):\n",
    "        endpoint0 = joint_connection[0]\n",
    "        endpoint1 = joint_connection[1]\n",
    "\n",
    "        line_x = [chosen_frame[endpoint0 + \" x\"], chosen_frame[endpoint1 + \" x\"]]\n",
    "        line_y = [chosen_frame[endpoint0 + \" y\"], chosen_frame[endpoint1 + \" y\"]]\n",
    "        line_z = [chosen_frame[endpoint0 + \" z\"], chosen_frame[endpoint1 + \" z\"]]\n",
    "        line.set_data([line_x, line_y])\n",
    "        line.set_3d_properties(line_z)\n",
    "\n",
    "\n",
    "def centre(recording):\n",
    "    columns_with_x = recording.columns[recording.columns.str.contains(\"x\")]\n",
    "    recording[columns_with_x][:,2] = recording[columns_with_x][:] - recording[[\"Pelvis x\"]]\n",
    "    return recording\n",
    "\n",
    "\n",
    "\n",
    "\n",
    "frames_number = 150\n",
    "\n",
    "fig = plt.figure()\n",
    "ax = fig.add_subplot(projection=\"3d\")\n",
    "\n",
    "# Setting the axes properties\n",
    "ax.set(xlim3d=(-1, 1), xlabel='X')\n",
    "ax.set(ylim3d=(-1, 1), ylabel='Y')\n",
    "ax.set(zlim3d=(-1, 1), zlabel='Z')\n",
    "\n",
    "\n",
    "lines = [ax.plot([], [], [], c=\"r\")[0] for _ in skeleton_connection_map]\n",
    "lines_2 = [ax.plot([], [], [], c=\"b\")[0] for _ in skeleton_connection_map]\n",
    "\n",
    "ani = animation.FuncAnimation(fig, update, frames=frames_number, interval=40, repeat=False, fargs=(motion_recording_service_1,lines))\n",
    "ani_2 = animation.FuncAnimation(fig, update, frames=frames_number, interval=40, repeat=False, fargs=(motion_recording_service_2,lines_2))\n",
    "plt.show()\n"
   ],
   "metadata": {
    "collapsed": false
   }
  },
  {
   "cell_type": "code",
   "execution_count": null,
   "outputs": [],
   "source": [],
   "metadata": {
    "collapsed": false,
    "pycharm": {
     "is_executing": true
    }
   }
  },
  {
   "cell_type": "code",
   "execution_count": 40,
   "outputs": [],
   "source": [],
   "metadata": {
    "collapsed": false
   }
  }
 ],
 "metadata": {
  "kernelspec": {
   "display_name": "Python 3",
   "language": "python",
   "name": "python3"
  },
  "language_info": {
   "codemirror_mode": {
    "name": "ipython",
    "version": 3
   },
   "file_extension": ".py",
   "mimetype": "text/x-python",
   "name": "python",
   "nbconvert_exporter": "python",
   "pygments_lexer": "ipython3",
   "version": "3.11.0"
  },
  "orig_nbformat": 4,
  "vscode": {
   "interpreter": {
    "hash": "c261aea317cc0286b3b3261fbba9abdec21eaa57589985bb7a274bf54d6cc0a7"
   }
  }
 },
 "nbformat": 4,
 "nbformat_minor": 2
}
