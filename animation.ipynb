{
 "cells": [
  {
   "cell_type": "code",
   "execution_count": 9,
   "metadata": {},
   "outputs": [],
   "source": [
    "import matplotlib\n",
    "import matplotlib.pyplot as plt\n",
    "import matplotlib.animation as animation\n",
    "import numpy as np\n",
    "import pandas as pd\n",
    "import math\n",
    "\n",
    "matplotlib.use('Qt5Agg')\n",
    "\n",
    "DATA_PATH = \"C:\\\\Users\\\\gaoch\\\\MA\\\\Badminton weights\\\\P01_B\\\\\"\n",
    "\n",
    "SHEET_NAME = [\"Segment Position\", \"Segment Velocity\", \"Segment Acceleration\"]\n",
    "\n",
    "SIMPLIFIED_JOINTS = [\"Head\", \"Neck\", \"Left Upper Arm\", \"Right Upper Arm\", \"Left Forearm\", \"Right Forearm\",\n",
    "                     \"Left Hand\", \"Right Hand\", \"Pelvis\", \"Left Upper Leg\", \"Right Upper Leg\",\n",
    "                     \"Left Lower Leg\", \"Right Lower Leg\", \"Left Foot\", \"Right Foot\"]\n",
    "\n",
    "SKELETON_CONNECTION_MAP = [[\"Neck\", \"Head\"],\n",
    "                         [\"Neck\", \"Left Upper Arm\"],\n",
    "                         [\"Left Upper Arm\", \"Left Forearm\"],\n",
    "                         [\"Left Forearm\", \"Left Hand\"],\n",
    "                         [\"Neck\", \"Right Upper Arm\"],\n",
    "                         [\"Right Upper Arm\", \"Right Forearm\"],\n",
    "                         [\"Right Forearm\", \"Right Hand\"],\n",
    "                         [\"Neck\", \"Pelvis\"],\n",
    "                         [\"Pelvis\", \"Left Upper Leg\"],\n",
    "                         [\"Left Upper Leg\", \"Left Lower Leg\"],\n",
    "                         [\"Left Lower Leg\", \"Left Foot\"],\n",
    "                         [\"Pelvis\", \"Right Upper Leg\"],\n",
    "                         [\"Right Upper Leg\", \"Right Lower Leg\"],\n",
    "                         [\"Right Lower Leg\", \"Right Foot\"]]\n",
    "\n",
    "used_cols = []\n",
    "for joints in SIMPLIFIED_JOINTS:\n",
    "    used_cols.append(joints+\" x\")\n",
    "    used_cols.append(joints+\" y\")\n",
    "    used_cols.append(joints+\" z\")\n",
    "\n",
    "DATA_PATH = \"C:\\\\Users\\\\gaoch\\\\MA\\\\Badminton weights\\\\P01_B\\\\head10000\\\\\"\n",
    "\n",
    "SHEET_NAME = [\"Segment Position\", \"Segment Velocity\", \"Segment Acceleration\"]\n",
    "\n",
    "# motion_recording = pd.read_excel(DATA_PATH + \"P01_B_noweightwithgloves.xlsx\",\n",
    "#                          sheet_name = SHEET_NAME,\n",
    "#                          usecols = used_cols)\n",
    "\n",
    "position_recording = pd.read_csv(DATA_PATH + \"position.csv\")\n",
    "velocity_recording = pd.read_csv(DATA_PATH + \"velocity.csv\")\n"
   ]
  },
  {
   "cell_type": "code",
   "execution_count": 18,
   "outputs": [],
   "source": [
    "def centre(recording):\n",
    "    columns_with_x = recording.columns[recording.columns.str.contains(\"x\")]\n",
    "    columns_with_y = recording.columns[recording.columns.str.contains(\"y\")]\n",
    "    columns_with_z = recording.columns[recording.columns.str.contains(\"z\")]\n",
    "    recording[columns_with_x] = recording[columns_with_x].sub(recording[\"Pelvis x\"],axis='index')\n",
    "    recording[columns_with_y] = recording[columns_with_y].sub(recording[\"Pelvis y\"],axis='index')\n",
    "    recording[columns_with_z] = recording[columns_with_z].sub(recording[\"Pelvis z\"],axis='index')\n",
    "    return recording\n",
    "\n",
    "def get_sin_cos(opposite, adjacent):\n",
    "    hypotenuse = math.sqrt(adjacent ** 2 + opposite ** 2)\n",
    "    return opposite/hypotenuse, adjacent/hypotenuse\n",
    "\n",
    "def rotate(frame, sin, cos):\n",
    "    rotation_matrix = np.array([[cos, sin, 0],[-sin, cos, 0],[0, 0, 1]])\n",
    "    result_array = []\n",
    "    for joint in range(0, len(frame), 3):\n",
    "        joint_vector = np.array([[frame.iloc[joint]], [frame.iloc[joint+1]], [frame.iloc[joint+2]]])\n",
    "        result_array = np.append(result_array, np.dot(rotation_matrix, joint_vector).T)\n",
    "    return pd.Series(result_array)\n",
    "\n",
    "def confront(recording):\n",
    "    sin_cos = pd.DataFrame()\n",
    "    sin_cos[[\"sin\",\"cos\"]] = recording.apply(lambda x: get_sin_cos(x[\"Left Upper Arm y\"] - x[\"Right Upper Arm y\"], x[\"Left Upper Arm x\"] - x[\"Right Upper Arm x\"]), axis=1, result_type=\"expand\")\n",
    "    recording[recording.columns] = recording.apply(lambda x: rotate(x, sin_cos[\"sin\"][x.name], sin_cos[\"cos\"][x.name]), axis=1, result_type=\"expand\")\n",
    "    return recording\n"
   ],
   "metadata": {
    "collapsed": false
   }
  },
  {
   "cell_type": "code",
   "execution_count": 21,
   "outputs": [],
   "source": [
    "def update(index, position_recording, skeleton, velocity_recording, visualized_velocities):\n",
    "    position = position_recording.iloc[index]\n",
    "    velocity = velocity_recording.iloc[index]\n",
    "    for line, joint_velocity, joint_connection in zip(skeleton, visualized_velocities, SKELETON_CONNECTION_MAP):\n",
    "        endpoint_0 = joint_connection[0]\n",
    "        endpoint_1 = joint_connection[1]\n",
    "\n",
    "        line_x = [position[endpoint_0 + \" x\"], position[endpoint_1 + \" x\"]]\n",
    "        line_y = [position[endpoint_0 + \" y\"], position[endpoint_1 + \" y\"]]\n",
    "        line_z = [position[endpoint_0 + \" z\"], position[endpoint_1 + \" z\"]]\n",
    "\n",
    "        joint_velocity_x = [position[endpoint_1 + \" x\"], position[endpoint_1 + \" x\"] - velocity[endpoint_1 + \" x\"]]\n",
    "        joint_velocity_y = [position[endpoint_1 + \" y\"], position[endpoint_1 + \" y\"] - velocity[endpoint_1 + \" y\"]]\n",
    "        joint_velocity_z = [position[endpoint_1 + \" z\"], position[endpoint_1 + \" z\"] - velocity[endpoint_1 + \" z\"]]\n",
    "\n",
    "        line.set_data([line_x, line_y])\n",
    "        line.set_3d_properties(line_z)\n",
    "\n",
    "        joint_velocity.set_data([joint_velocity_x, joint_velocity_y])\n",
    "        joint_velocity.set_3d_properties(joint_velocity_z)\n",
    "\n",
    "position_recording_0 = position_recording[2650:2800]\n",
    "velocity_recording_0 = velocity_recording[2650:2800]\n",
    "\n",
    "frames_number = 150\n",
    "\n",
    "fig = plt.figure()\n",
    "ax = fig.add_subplot(projection=\"3d\")\n",
    "\n",
    "ax.set(xlim3d=(-1, 1), xlabel='X')\n",
    "ax.set(ylim3d=(-1, 1), ylabel='Y')\n",
    "ax.set(zlim3d=(-1, 1), zlabel='Z')\n",
    "\n",
    "# skeleton_0 = [ax.plot([], [], [], c=\"r\")[0] for _ in SKELETON_CONNECTION_MAP]\n",
    "# skeleton_1 = [ax.plot([], [], [], c=\"b\")[0] for _ in SKELETON_CONNECTION_MAP]\n",
    "skeleton_2 = [ax.plot([], [], [], c=\"g\")[0] for _ in SKELETON_CONNECTION_MAP]\n",
    "visualized_velocities = [ax.plot([], [], [], c=\"r\")[0] for _ in SKELETON_CONNECTION_MAP]\n",
    "\n",
    "# position_recording_0_copy = position_recording_0.copy()\n",
    "# position_recording_0_centred_copy = centre(position_recording_0).copy()\n",
    "# position_recording_0_centred_confronted = confront(centre(position_recording_0))\n",
    "\n",
    "# ani_0 = animation.FuncAnimation(fig, update, frames=frames_number, interval=40, repeat=True, fargs=(position_recording_0_copy,skeleton_0))\n",
    "# ani_1 = animation.FuncAnimation(fig, update, frames=frames_number, interval=40, repeat=True, fargs=(position_recording_0_centred_copy,skeleton_1))\n",
    "ani_2 = animation.FuncAnimation(fig, update, frames=frames_number, interval=40, repeat=True,\n",
    "                                       fargs=(position_recording_0, skeleton_2, velocity_recording_0, visualized_velocities))\n",
    "\n",
    "is_paused = False\n",
    "def toggle_pause(anis):\n",
    "    global is_paused\n",
    "    if is_paused:\n",
    "        for ani in anis:\n",
    "            ani.resume()\n",
    "    else:\n",
    "        for ani in anis:\n",
    "            ani.pause()\n",
    "    is_paused = not is_paused\n",
    "\n",
    "\n",
    "fig.canvas.mpl_connect('button_press_event', lambda event: toggle_pause([ani_2]))\n",
    "\n",
    "plt.show()"
   ],
   "metadata": {
    "collapsed": false
   }
  },
  {
   "cell_type": "code",
   "execution_count": 17,
   "outputs": [
    {
     "name": "stdout",
     "output_type": "stream",
     "text": [
      "<class 'pandas.core.frame.DataFrame'>\n"
     ]
    }
   ],
   "source": [],
   "metadata": {
    "collapsed": false
   }
  },
  {
   "cell_type": "code",
   "execution_count": 8,
   "outputs": [
    {
     "ename": "NameError",
     "evalue": "name 'sin_cos' is not defined",
     "output_type": "error",
     "traceback": [
      "\u001B[1;31m---------------------------------------------------------------------------\u001B[0m",
      "\u001B[1;31mNameError\u001B[0m                                 Traceback (most recent call last)",
      "\u001B[1;32m~\\AppData\\Local\\Temp\\ipykernel_12056\\3153951152.py\u001B[0m in \u001B[0;36m<module>\u001B[1;34m\u001B[0m\n\u001B[1;32m----> 1\u001B[1;33m \u001B[0mprint\u001B[0m\u001B[1;33m(\u001B[0m\u001B[0msin_cos\u001B[0m\u001B[1;33m[\u001B[0m\u001B[1;34m\"sin\"\u001B[0m\u001B[1;33m]\u001B[0m\u001B[1;33m[\u001B[0m\u001B[1;36m7650\u001B[0m\u001B[1;33m]\u001B[0m\u001B[1;33m)\u001B[0m\u001B[1;33m\u001B[0m\u001B[1;33m\u001B[0m\u001B[0m\n\u001B[0m",
      "\u001B[1;31mNameError\u001B[0m: name 'sin_cos' is not defined"
     ]
    }
   ],
   "source": [],
   "metadata": {
    "collapsed": false
   }
  },
  {
   "cell_type": "code",
   "execution_count": null,
   "outputs": [],
   "source": [],
   "metadata": {
    "collapsed": false
   }
  }
 ],
 "metadata": {
  "kernelspec": {
   "display_name": "Python 3",
   "language": "python",
   "name": "python3"
  },
  "language_info": {
   "codemirror_mode": {
    "name": "ipython",
    "version": 3
   },
   "file_extension": ".py",
   "mimetype": "text/x-python",
   "name": "python",
   "nbconvert_exporter": "python",
   "pygments_lexer": "ipython3",
   "version": "3.11.0"
  },
  "orig_nbformat": 4,
  "vscode": {
   "interpreter": {
    "hash": "c261aea317cc0286b3b3261fbba9abdec21eaa57589985bb7a274bf54d6cc0a7"
   }
  }
 },
 "nbformat": 4,
 "nbformat_minor": 2
}
