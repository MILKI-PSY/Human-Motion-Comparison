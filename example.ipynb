{
 "cells": [
  {
   "cell_type": "code",
   "execution_count": 1,
   "outputs": [
    {
     "name": "stdout",
     "output_type": "stream",
     "text": [
      "Importing the dtw module. When using in academic works please cite:\n",
      "  T. Giorgino. Computing and Visualizing Dynamic Time Warping Alignments in R: The dtw Package.\n",
      "  J. Stat. Soft., doi:10.18637/jss.v031.i07.\n",
      "\n"
     ]
    }
   ],
   "source": [
    "import pandas as pd\n",
    "import library.wrapper as wrapper\n",
    "import library.motion as mt\n",
    "import library.comparison as cp\n",
    "from library.constants import *\n",
    "import matplotlib\n",
    "\n",
    "matplotlib.use('Qt5Agg')"
   ],
   "metadata": {
    "collapsed": false
   }
  },
  {
   "cell_type": "code",
   "execution_count": 2,
   "outputs": [],
   "source": [
    "file_path_0 = \"data/P01 Reference.xlsx\" #path of recording 0\n",
    "start_0 = 0 #start frame number of the recording 0\n",
    "end_0 = 249 #end frame number of the recording 0\n",
    "label_motion_0 = \"label_0\"\n",
    "\n",
    "# file_path_1 = \"C:/Users/gaoch/MA/Badminton weights/P02_B/P02_B_withweightwithloves.xlsx\"\n",
    "# start_1 = 16000 #start frame number of the recording 1\n",
    "# end_1 = 16600 #end frame number of the recording 1\n",
    "# label_motion_1 = \"label_1\"\n",
    "\n",
    "file_path_1 = \"data/P02 300-800.xlsx\"\n",
    "start_1 = 300 #start frame number of the recording 1\n",
    "end_1 = 800 #end frame number of the recording 1\n",
    "label_motion_1 = \"label_1\"\n",
    "\n",
    "weights_0 = {}\n",
    "for joint in SIMPLIFIED_JOINTS:\n",
    "    weights_0[joint] = 1\n",
    "\n",
    "\n",
    "# if you need more than one group of weight, just use the code below and add it to weights_groups\n",
    "# weights_1 = {}\n",
    "# for joint in SIMPLIFIED_JOINTS:\n",
    "#     weights_1[joint] = 1\n",
    "# and don't forget to add new mark to marks\n",
    "\n",
    "weights_groups = pd.DataFrame([weights_0])\n",
    "marks = []\n",
    "\n",
    "flag_save_xlsx = False  # output xlsx or not\n",
    "output_types = [\"Score\", \"Segment Position\", \"Segment Velocity\", \"Segment Acceleration\", \"Segment Angular Velocity\",\n",
    "                \"Segment Angular Acceleration\"]\n",
    "xlsx_filename = \"example\"\n",
    "xlsx_save_path = None # None for default path\n",
    "\n",
    "flag_show_animation = True  # generate the animation and play it\n",
    "flag_save_animation = False  # generate the animation and save it\n",
    "gif_file_name = \"example\"\n",
    "flag_visualized_vector = False  # animation with visualized velocity or not\n",
    "flag_heatmap = True  # animation with heatmap or not\n",
    "flag_repeat = True  # animation will always repeat or not\n",
    "visualized_vector = \"Segment Velocity\"\n",
    "heatmap_recording = \"Score\"\n",
    "\n",
    "flag_show_average_score_image = True # generate the average score image and show it"
   ],
   "metadata": {
    "collapsed": false
   }
  },
  {
   "cell_type": "code",
   "execution_count": 3,
   "outputs": [],
   "source": [
    "meta_data_0 = mt.MetaData(file_path_0, start_0, end_0, label_motion_0)\n",
    "meta_data_1 = mt.MetaData(file_path_1, start_1, end_1, label_motion_1)\n",
    "# meta_data_0 = mt.MetaData(file_path_1, start_1, end_1, label_motion_1)\n",
    "\n",
    "xlsx_settings = wrapper.XlsxSetting(\n",
    "    flag_save = flag_save_xlsx,\n",
    "    xlsx_filename=xlsx_filename,\n",
    "    output_types=output_types\n",
    ")\n",
    "\n",
    "animation_settings = wrapper.AnimationSetting(\n",
    "    flag_show = flag_show_animation,\n",
    "    flag_save = flag_save_animation,\n",
    "    flag_to_html5_video = False,\n",
    "    flag_visualized_vector=flag_visualized_vector,\n",
    "    flag_heatmap=flag_heatmap,\n",
    "    flag_repeat=flag_repeat,\n",
    "    visualized_vector=visualized_vector,\n",
    "    heatmap_recording=heatmap_recording\n",
    ")\n",
    "\n",
    "average_score_image_settings = wrapper.AverageScoreImageSetting(\n",
    "    flag_to_base64 = False,\n",
    "    flag_show = flag_show_average_score_image\n",
    ")\n",
    "\n",
    "example_wrapper = wrapper.Wrapper(\n",
    "    xlsx_settings=xlsx_settings,\n",
    "    animation_settings=animation_settings,\n",
    "    average_score_image_settings = average_score_image_settings,\n",
    "    motions_meta=[meta_data_0, meta_data_1]\n",
    ")"
   ],
   "metadata": {
    "collapsed": false
   }
  },
  {
   "cell_type": "code",
   "execution_count": 4,
   "outputs": [
    {
     "name": "stdout",
     "output_type": "stream",
     "text": [
      "generating label_0 from data/P01 Reference.xlsx\n",
      "generating label_1 from data/P02 300-800.xlsx\n"
     ]
    }
   ],
   "source": [
    "motions = example_wrapper.get_motions()\n",
    "marks.insert(0,start_0)\n",
    "marks.append(end_0)\n",
    "comparison = cp.Comparison(weights_groups, marks)"
   ],
   "metadata": {
    "collapsed": false
   }
  },
  {
   "cell_type": "code",
   "execution_count": 5,
   "outputs": [
    {
     "name": "stdout",
     "output_type": "stream",
     "text": [
      "placing label_0 in the centre\n",
      "rotating label_0 to positive direction\n",
      "placing label_1 in the centre\n",
      "rotating label_1 to positive direction\n",
      "synchronizing label_1 by label_0\n",
      "calculating the distances and score\n",
      "generating the animation\n"
     ]
    },
    {
     "data": {
      "text/plain": "('', None)"
     },
     "execution_count": 5,
     "metadata": {},
     "output_type": "execute_result"
    }
   ],
   "source": [
    "for motion in motions:\n",
    "    motion.centre().confront()\n",
    "\n",
    "motions[1].synchronized_by(motions[0])\n",
    "\n",
    "result = comparison.compare(motions[0], motions[1], example_wrapper.get_comparison_types())\n",
    "\n",
    "example_wrapper.output(motions, result)"
   ],
   "metadata": {
    "collapsed": false
   }
  },
  {
   "cell_type": "code",
   "execution_count": 7,
   "outputs": [
    {
     "name": "stdout",
     "output_type": "stream",
     "text": [
      "generating the animation\n"
     ]
    },
    {
     "data": {
      "text/plain": "('', None)"
     },
     "execution_count": 7,
     "metadata": {},
     "output_type": "execute_result"
    }
   ],
   "source": [
    "# marks = [0, 249]\n",
    "# comparison = cp.Comparison(weights_groups, marks)\n",
    "# result = comparison.compare(motions[0], motions[1], example_wrapper.get_comparison_types())\n",
    "example_wrapper.output(motions, result)"
   ],
   "metadata": {
    "collapsed": false
   }
  },
  {
   "cell_type": "code",
   "execution_count": 6,
   "outputs": [],
   "source": [],
   "metadata": {
    "collapsed": false
   }
  }
 ],
 "metadata": {
  "kernelspec": {
   "display_name": "Python 3",
   "language": "python",
   "name": "python3"
  },
  "language_info": {
   "codemirror_mode": {
    "name": "ipython",
    "version": 2
   },
   "file_extension": ".py",
   "mimetype": "text/x-python",
   "name": "python",
   "nbconvert_exporter": "python",
   "pygments_lexer": "ipython2",
   "version": "2.7.6"
  }
 },
 "nbformat": 4,
 "nbformat_minor": 0
}
