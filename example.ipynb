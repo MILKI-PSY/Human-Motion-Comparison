{
 "cells": [
  {
   "cell_type": "code",
   "execution_count": 6,
   "outputs": [],
   "source": [
    "from library.IO import *\n",
    "import library.motion as mtn\n",
    "import library.animation as anmtn\n",
    "import matplotlib\n",
    "matplotlib.use('Qt5Agg')"
   ],
   "metadata": {
    "collapsed": false
   }
  },
  {
   "cell_type": "code",
   "execution_count": 7,
   "outputs": [],
   "source": [
    "file_name_0 = \"P01_B_cut\"\n",
    "marks_motion_0 = [7600, 7850]\n",
    "label_motion_0 = \"label_0\"\n",
    "\n",
    "file_name_1 = \"P02_B_cut\"\n",
    "marks_motion_1 = [7600, 8100]\n",
    "label_motion_1 = \"label_1\"\n",
    "\n",
    "weights_0 = {}\n",
    "for joint in SIMPLIFIED_JOINTS:\n",
    "    weights_0[joint] = 1\n",
    "weights_0[\"Right Hand\"] = 10\n",
    "weights_0[\"Right Upper Arm\"] = 10\n",
    "weights_0[\"Right Forearm\"] = 10\n",
    "\n",
    "# if you need more than one group of weight, just use the code below and add it to weights_groups\n",
    "# weights_1 = {}\n",
    "# for joint in SIMPLIFIED_JOINTS:\n",
    "#     weights_1[joint] = 1\n",
    "\n",
    "weights_groups = pd.DataFrame([weights_0])\n",
    "\n",
    "flag_output_xlsx = False  # output xlsx or not\n",
    "output_types = [\"Score\", \"Segment Angular Velocity\"]\n",
    "\n",
    "flag_animation_show = True # generate the animation and play it\n",
    "flag_animation_to_gif = False  # generate the animation and output as gif\n",
    "gif_file_name = \"example\"\n",
    "flag_visualized_vector = True  # animation with visualized velocity or not\n",
    "flag_heatmap = False  # animation with heatmap or not\n",
    "flag_repeat = True  # animation will always repeat or not\n",
    "visualized_vector = \"Segment Angular Velocity\"\n",
    "heatmap_recording = \"Score\""
   ],
   "metadata": {
    "collapsed": false
   }
  },
  {
   "cell_type": "code",
   "execution_count": 8,
   "outputs": [
    {
     "name": "stdout",
     "output_type": "stream",
     "text": [
      "generating label_0 from P01_B_cut\n"
     ]
    }
   ],
   "source": [
    "meta_data_0 = mtn.MetaData(file_name_0, marks_motion_0[0], marks_motion_0[-1], label_motion_0)\n",
    "# meta_data_1 = mtn.MetaData(file_name_1, marks_motion_1[0], marks_motion_1[-1], label_motion_1)\n",
    "#\n",
    "motions = get_motions([meta_data_0], RECORDING_TYPES)"
   ],
   "metadata": {
    "collapsed": false
   }
  },
  {
   "cell_type": "code",
   "execution_count": 9,
   "outputs": [],
   "source": [
    "# for motion in motions:\n",
    "#     motion.centre().confront()\n",
    "#\n",
    "# motions[1].synchronized_by(motions[0], weights_groups, marks_motion_0)"
   ],
   "metadata": {
    "collapsed": false
   }
  },
  {
   "cell_type": "code",
   "execution_count": 10,
   "outputs": [
    {
     "name": "stdout",
     "output_type": "stream",
     "text": [
      "generating the animation\n"
     ]
    }
   ],
   "source": [
    "if flag_output_xlsx:\n",
    "    export_distances(motions, output_types)\n",
    "\n",
    "if flag_animation_to_gif or flag_animation_show:\n",
    "    animation_settings = anmtn.Setting(\n",
    "        flag_visualized_vector=flag_visualized_vector,\n",
    "        flag_heatmap=flag_heatmap,\n",
    "        flag_repeat=flag_repeat,\n",
    "        visualized_vector=visualized_vector,\n",
    "        heatmap_recording=heatmap_recording,\n",
    "    )\n",
    "    ani = anmtn.Animation(motions, animation_settings)\n",
    "    if flag_animation_show:\n",
    "\n",
    "        ani.show()\n",
    "    if flag_animation_to_gif:\n",
    "        ani.to_gif(gif_file_name)\n"
   ],
   "metadata": {
    "collapsed": false
   }
  },
  {
   "cell_type": "code",
   "execution_count": 10,
   "outputs": [],
   "source": [],
   "metadata": {
    "collapsed": false
   }
  }
 ],
 "metadata": {
  "kernelspec": {
   "display_name": "Python 3",
   "language": "python",
   "name": "python3"
  },
  "language_info": {
   "codemirror_mode": {
    "name": "ipython",
    "version": 2
   },
   "file_extension": ".py",
   "mimetype": "text/x-python",
   "name": "python",
   "nbconvert_exporter": "python",
   "pygments_lexer": "ipython2",
   "version": "2.7.6"
  }
 },
 "nbformat": 4,
 "nbformat_minor": 0
}
