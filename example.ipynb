{
 "cells": [
  {
   "cell_type": "code",
   "execution_count": 1,
   "outputs": [
    {
     "name": "stdout",
     "output_type": "stream",
     "text": [
      "Importing the dtw module. When using in academic works please cite:\n",
      "  T. Giorgino. Computing and Visualizing Dynamic Time Warping Alignments in R: The dtw Package.\n",
      "  J. Stat. Soft., doi:10.18637/jss.v031.i07.\n",
      "\n"
     ]
    }
   ],
   "source": [
    "import pandas as pd\n",
    "\n",
    "import library.IO as myio\n",
    "import library.motion as mt\n",
    "import library.comparison as cp\n",
    "from library.constants import *\n",
    "import matplotlib\n",
    "matplotlib.use('Qt5Agg')"
   ],
   "metadata": {
    "collapsed": false
   }
  },
  {
   "cell_type": "code",
   "execution_count": 2,
   "outputs": [],
   "source": [
    "file_name_0 = \"P01_B_cut\"\n",
    "marks_motion_0 = [7600, 7850]\n",
    "label_motion_0 = \"label_0\"\n",
    "\n",
    "file_name_1 = \"P02_B_cut\"\n",
    "#marks_motion_1 = [7600, 8100]\n",
    "marks_motion_1 = [7600, 7850]\n",
    "label_motion_1 = \"label_1\"\n",
    "\n",
    "weights_0 = {}\n",
    "for joint in SIMPLIFIED_JOINTS:\n",
    "    weights_0[joint] = 1\n",
    "weights_0[\"Right Hand\"] = 0\n",
    "weights_0[\"Right Upper Arm\"] = 0\n",
    "weights_0[\"Right Forearm\"] = 0\n",
    "\n",
    "# if you need more than one group of weight, just use the code below and add it to weights_groups\n",
    "# weights_1 = {}\n",
    "# for joint in SIMPLIFIED_JOINTS:\n",
    "#     weights_1[joint] = 1\n",
    "\n",
    "weights_groups = pd.DataFrame([weights_0])\n",
    "\n",
    "flag_output_xlsx = False  # output xlsx or not\n",
    "output_types = [\"Score\", \"Segment Angular Velocity\"]\n",
    "xlsx_filename = \"example\"\n",
    "\n",
    "flag_show_animation = True  # generate the animation and play it\n",
    "flag_output_gif = False  # generate the animation and output as gif\n",
    "gif_file_name = \"example\"\n",
    "flag_visualized_vector = False  # animation with visualized velocity or not\n",
    "flag_heatmap = True  # animation with heatmap or not\n",
    "flag_repeat = True  # animation will always repeat or not\n",
    "visualized_vector = \"Segment Angular Velocity\"\n",
    "heatmap_recording = \"Score\""
   ],
   "metadata": {
    "collapsed": false
   }
  },
  {
   "cell_type": "code",
   "execution_count": 3,
   "outputs": [],
   "source": [
    "meta_data_0 = mt.MetaData(file_name_0, marks_motion_0[0], marks_motion_0[-1], label_motion_0)\n",
    "meta_data_1 = mt.MetaData(file_name_1, marks_motion_1[0], marks_motion_1[-1], label_motion_1)\n",
    "\n",
    "if flag_output_xlsx:\n",
    "    xlsx_settings = myio.XlsxSetting(\n",
    "        xlsx_filename=xlsx_filename,\n",
    "        output_types=output_types\n",
    "    )\n",
    "else:\n",
    "    xlsx_settings = None\n",
    "\n",
    "if flag_output_gif or flag_show_animation:\n",
    "    animation_settings = myio.AnimationSetting(\n",
    "        flag_visualized_vector=flag_visualized_vector,\n",
    "        flag_heatmap=flag_heatmap,\n",
    "        flag_repeat=flag_repeat,\n",
    "        visualized_vector=visualized_vector,\n",
    "        heatmap_recording=heatmap_recording\n",
    "    )\n",
    "else:\n",
    "    animation_settings = None\n",
    "\n",
    "io = myio.MyIO(\n",
    "    flag_output_xlsx=flag_output_xlsx,\n",
    "    flag_show_animation=flag_show_animation,\n",
    "    flag_output_gif=flag_output_gif,\n",
    "    xlsx_settings=xlsx_settings,\n",
    "    animation_settings=animation_settings,\n",
    "    motions_meta=[meta_data_0, meta_data_1]\n",
    ")"
   ],
   "metadata": {
    "collapsed": false
   }
  },
  {
   "cell_type": "code",
   "execution_count": 4,
   "outputs": [
    {
     "name": "stdout",
     "output_type": "stream",
     "text": [
      "generating label_0 from P01_B_cut\n",
      "generating label_1 from P02_B_cut\n"
     ]
    }
   ],
   "source": [
    "motions = io.get_motions()\n",
    "comparison = cp.Comparison(weights_groups, marks_motion_0)"
   ],
   "metadata": {
    "collapsed": false
   }
  },
  {
   "cell_type": "code",
   "execution_count": 5,
   "outputs": [
    {
     "name": "stdout",
     "output_type": "stream",
     "text": [
      "calculating the distances and score\n"
     ]
    }
   ],
   "source": [
    "# for motion in motions:\n",
    "#     motion.centre().confront()\n",
    "#\n",
    "# motions[1].synchronized_by(motions[0])\n",
    "result = comparison.compare(motions[0], motions[1], io.get_comparison_types())\n"
   ],
   "metadata": {
    "collapsed": false
   }
  },
  {
   "cell_type": "code",
   "execution_count": 7,
   "outputs": [
    {
     "name": "stdout",
     "output_type": "stream",
     "text": [
      "generating the animation\n"
     ]
    }
   ],
   "source": [
    "io.output(motions,result)"
   ],
   "metadata": {
    "collapsed": false
   }
  }
 ],
 "metadata": {
  "kernelspec": {
   "display_name": "Python 3",
   "language": "python",
   "name": "python3"
  },
  "language_info": {
   "codemirror_mode": {
    "name": "ipython",
    "version": 2
   },
   "file_extension": ".py",
   "mimetype": "text/x-python",
   "name": "python",
   "nbconvert_exporter": "python",
   "pygments_lexer": "ipython2",
   "version": "2.7.6"
  }
 },
 "nbformat": 4,
 "nbformat_minor": 0
}
